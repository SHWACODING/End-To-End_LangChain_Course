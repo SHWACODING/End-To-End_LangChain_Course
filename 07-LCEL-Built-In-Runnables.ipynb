{
 "cells": [
  {
   "cell_type": "code",
   "execution_count": 1,
   "id": "fe6f8752",
   "metadata": {},
   "outputs": [],
   "source": [
    "import os\n",
    "from dotenv import load_dotenv\n",
    "\n",
    "load_dotenv()\n",
    "\n",
    "os.environ[\"GROQ_API_KEY\"] = os.getenv(\"GROQ_API_KEY\")\n",
    "os.environ[\"GOOGLE_API_KEY\"] = os.getenv(\"GOOGLE_API_KEY\")"
   ]
  },
  {
   "cell_type": "code",
   "execution_count": 2,
   "id": "cb721e3d",
   "metadata": {},
   "outputs": [
    {
     "data": {
      "text/plain": [
       "ChatGroq(client=<groq.resources.chat.completions.Completions object at 0x000001714AB35C10>, async_client=<groq.resources.chat.completions.AsyncCompletions object at 0x000001714AC7CE50>, model_name='llama-3.3-70b-versatile', model_kwargs={}, groq_api_key=SecretStr('**********'))"
      ]
     },
     "execution_count": 2,
     "metadata": {},
     "output_type": "execute_result"
    }
   ],
   "source": [
    "from langchain_groq import ChatGroq\n",
    "\n",
    "model = ChatGroq(model=\"llama-3.3-70b-versatile\")\n",
    "\n",
    "model"
   ]
  },
  {
   "cell_type": "markdown",
   "id": "f6d79d92",
   "metadata": {},
   "source": [
    "### RunnablePassthrough\n",
    "- It does not do anything to the input data.\n",
    "- Let's see it in a very simple example: a chain with just RunnablePassthrough() will output the original input without any modification."
   ]
  },
  {
   "cell_type": "code",
   "execution_count": 3,
   "id": "4614c0f9",
   "metadata": {},
   "outputs": [
    {
     "data": {
      "text/plain": [
       "'ShwaTech'"
      ]
     },
     "execution_count": 3,
     "metadata": {},
     "output_type": "execute_result"
    }
   ],
   "source": [
    "from langchain_core.runnables import RunnablePassthrough\n",
    "\n",
    "RPT = RunnablePassthrough()\n",
    "\n",
    "RPT.invoke(\"ShwaTech\")"
   ]
  },
  {
   "cell_type": "markdown",
   "id": "0a9d52fe",
   "metadata": {},
   "source": [
    "### RunnableLambda\n",
    "- To use a custom function inside a LCEL chain we need to wrap it up with RunnableLambda.\n",
    "- Let's define a very simple function to create Russian lastnames:"
   ]
  },
  {
   "cell_type": "code",
   "execution_count": 4,
   "id": "0d4220e5",
   "metadata": {},
   "outputs": [],
   "source": [
    "def russian_lastname(name: str) -> str:\n",
    "    return f\"{name}ovich\""
   ]
  },
  {
   "cell_type": "code",
   "execution_count": 5,
   "id": "1f6cb141",
   "metadata": {},
   "outputs": [
    {
     "data": {
      "text/plain": [
       "'ShwaTechovich'"
      ]
     },
     "execution_count": 5,
     "metadata": {},
     "output_type": "execute_result"
    }
   ],
   "source": [
    "from langchain_core.runnables import RunnableLambda\n",
    "\n",
    "chain = RunnablePassthrough() | RunnableLambda(russian_lastname)\n",
    "\n",
    "chain.invoke(\"ShwaTech\")"
   ]
  },
  {
   "cell_type": "markdown",
   "id": "4feb7a9a",
   "metadata": {},
   "source": [
    "### RunnableParallel\n",
    "- We will use RunnableParallel() for running tasks in parallel.\n",
    "- This is probably the most important and most useful Runnable from LangChain.\n",
    "- In the following chain, RunnableParallel is going to run these two tasks in parallel :\n",
    "    - operation_a will use RunnablePassthrough.\n",
    "    - operation_b will use RunnableLambda with the russian_lastname function."
   ]
  },
  {
   "cell_type": "code",
   "execution_count": 6,
   "id": "eebf017b",
   "metadata": {},
   "outputs": [
    {
     "data": {
      "text/plain": [
       "{'operator_a': 'ShwaCode', 'operator_b': 'ShwaCodeovich'}"
      ]
     },
     "execution_count": 6,
     "metadata": {},
     "output_type": "execute_result"
    }
   ],
   "source": [
    "from langchain_core.runnables import RunnableParallel\n",
    "\n",
    "chain = RunnableParallel(\n",
    "    {\n",
    "        \"operator_a\": RunnablePassthrough(),\n",
    "        \"operator_b\": RunnableLambda(russian_lastname)\n",
    "    }\n",
    ")\n",
    "\n",
    "chain.invoke(\"ShwaCode\")"
   ]
  },
  {
   "cell_type": "markdown",
   "id": "2e753e95",
   "metadata": {},
   "source": [
    "Example ???"
   ]
  },
  {
   "cell_type": "code",
   "execution_count": 7,
   "id": "78d8f61d",
   "metadata": {},
   "outputs": [],
   "source": [
    "from langchain_core.output_parsers import StrOutputParser\n",
    "from langchain_core.prompts import ChatPromptTemplate"
   ]
  },
  {
   "cell_type": "code",
   "execution_count": 8,
   "id": "a93f089b",
   "metadata": {},
   "outputs": [],
   "source": [
    "prompt = ChatPromptTemplate.from_template(\"Explain me in simple terms what is {topic} in relation to Quantum Computing\")\n",
    "\n",
    "output_parser = StrOutputParser()"
   ]
  },
  {
   "cell_type": "code",
   "execution_count": 9,
   "id": "feffd528",
   "metadata": {},
   "outputs": [],
   "source": [
    "def simplefunc(topic):\n",
    "    return topic[\"name\"] + \" Field\""
   ]
  },
  {
   "cell_type": "code",
   "execution_count": 10,
   "id": "0fcb3d42",
   "metadata": {},
   "outputs": [],
   "source": [
    "from langchain_core.runnables import RunnablePassthrough, RunnableLambda, RunnableParallel\n",
    "\n",
    "runnables = RunnableParallel(\n",
    "    {\n",
    "        \"operator_a\": RunnablePassthrough(),\n",
    "        \"topic\": RunnableLambda(simplefunc),\n",
    "        \"operator_c\": RunnablePassthrough(),\n",
    "    }\n",
    ")"
   ]
  },
  {
   "cell_type": "code",
   "execution_count": 11,
   "id": "82e12643",
   "metadata": {},
   "outputs": [],
   "source": [
    "chain = runnables | prompt | model | output_parser"
   ]
  },
  {
   "cell_type": "code",
   "execution_count": 12,
   "id": "3bceb957",
   "metadata": {},
   "outputs": [
    {
     "data": {
      "text/plain": [
       "\"I'd be happy to explain Quantum Optics in simple terms, especially in relation to Quantum Computing.\\n\\n**What is Quantum Optics?**\\n\\nQuantum Optics is a field of study that combines two areas: Quantum Mechanics and Optics. It explores how light (photons) behaves at a quantum level, which is the smallest scale where strange and fascinating phenomena occur.\\n\\n**Key aspects of Quantum Optics:**\\n\\n1. **Photons**: Quantum Optics studies the behavior of individual photons, which are the particles that make up light.\\n2. **Quantum properties**: Photons can exhibit unique properties like superposition (being in multiple states at once), entanglement (being connected to each other), and interference (canceling or reinforcing each other).\\n3. **Light-matter interactions**: Quantum Optics examines how photons interact with matter, such as atoms, molecules, or special materials.\\n\\n**Connection to Quantum Computing:**\\n\\nQuantum Optics plays a crucial role in Quantum Computing, as it provides a way to:\\n\\n1. **Create qubits**: Photons can be used as qubits (quantum bits), which are the fundamental units of quantum information.\\n2. **Manipulate qubits**: Quantum Optics techniques can control and manipulate photons to perform quantum operations, such as superposition, entanglement, and measurement.\\n3. **Enable quantum communication**: Quantum Optics can facilitate secure communication between quantum computers, using photons to transmit quantum information.\\n\\n**Quantum Optics-based Quantum Computing approaches:**\\n\\nSome Quantum Computing approaches rely heavily on Quantum Optics, such as:\\n\\n1. **Photon-based quantum computing**: Uses photons as qubits and optical circuits to perform quantum operations.\\n2. **Optical quantum computing**: Employs optical systems, like lasers and beam splitters, to manipulate photons and perform quantum computations.\\n\\nIn summary, Quantum Optics is a field that studies the behavior of light at a quantum level, which is essential for Quantum Computing. By understanding and controlling photons, researchers can create qubits, manipulate them, and enable secure quantum communication, ultimately contributing to the development of Quantum Computing.\""
      ]
     },
     "execution_count": 12,
     "metadata": {},
     "output_type": "execute_result"
    }
   ],
   "source": [
    "chain.invoke({\n",
    "    \"name\": \"Quantum Optics\"\n",
    "})"
   ]
  },
  {
   "cell_type": "markdown",
   "id": "4358a4f1",
   "metadata": {},
   "source": [
    "### Let's see a more advanced use of RunnableParallel"
   ]
  },
  {
   "cell_type": "code",
   "execution_count": 13,
   "id": "1790323a",
   "metadata": {},
   "outputs": [],
   "source": [
    "from langchain_community.vectorstores import FAISS\n",
    "from langchain_core.output_parsers import StrOutputParser\n",
    "from langchain_core.prompts import ChatPromptTemplate\n",
    "from langchain_core.runnables import RunnablePassthrough, RunnableParallel\n",
    "from langchain_groq import ChatGroq\n",
    "from langchain_google_genai import GoogleGenerativeAIEmbeddings"
   ]
  },
  {
   "cell_type": "code",
   "execution_count": 15,
   "id": "3171c198",
   "metadata": {},
   "outputs": [],
   "source": [
    "embeddings = GoogleGenerativeAIEmbeddings(model=\"models/embedding-001\")\n",
    "\n",
    "vector_store = FAISS.from_texts(\n",
    "    [\"ShwaTech focuses on providing content on Data Science, AI, ML, DL, CV, NLP, LLM, Gen AI, Agentic AI, Quantum Computing, QML, QAI and Competitive Programming etc. in English.\"],\n",
    "    embedding=embeddings\n",
    ")"
   ]
  },
  {
   "cell_type": "code",
   "execution_count": 16,
   "id": "e71e36b9",
   "metadata": {},
   "outputs": [],
   "source": [
    "retriever = vector_store.as_retriever()"
   ]
  },
  {
   "cell_type": "code",
   "execution_count": 17,
   "id": "35869064",
   "metadata": {},
   "outputs": [],
   "source": [
    "template = \"\"\"Answer the question based only on the following context:\n",
    "{context}\n",
    "\n",
    "Question: {question}\n",
    "\"\"\""
   ]
  },
  {
   "cell_type": "code",
   "execution_count": 18,
   "id": "705e0222",
   "metadata": {},
   "outputs": [],
   "source": [
    "prompt = ChatPromptTemplate.from_template(template)"
   ]
  },
  {
   "cell_type": "code",
   "execution_count": 19,
   "id": "c2304d62",
   "metadata": {},
   "outputs": [],
   "source": [
    "model = ChatGroq(model=\"llama-3.3-70b-versatile\")"
   ]
  },
  {
   "cell_type": "code",
   "execution_count": null,
   "id": "d2f633c0",
   "metadata": {},
   "outputs": [],
   "source": [
    "output_parser = StrOutputParser()"
   ]
  },
  {
   "cell_type": "code",
   "execution_count": 20,
   "id": "f395641b",
   "metadata": {},
   "outputs": [],
   "source": [
    "retrieval_chain = (\n",
    "    RunnableParallel({\n",
    "        \"context\": retriever,\n",
    "        \"question\": RunnablePassthrough(),\n",
    "    })\n",
    "    | prompt\n",
    "    | model\n",
    "    | output_parser\n",
    ")"
   ]
  },
  {
   "cell_type": "code",
   "execution_count": 21,
   "id": "e42cd60b",
   "metadata": {},
   "outputs": [
    {
     "data": {
      "text/plain": [
       "'ShwaTech is an organization that focuses on providing content related to various technological fields, including Data Science, Artificial Intelligence (AI), Machine Learning (ML), Deep Learning (DL), Computer Vision (CV), Natural Language Processing (NLP), Large Language Models (LLM), General AI, Agentic AI, Quantum Computing, Quantum Machine Learning (QML), Quantum AI, and Competitive Programming, with all content provided in English.'"
      ]
     },
     "execution_count": 21,
     "metadata": {},
     "output_type": "execute_result"
    }
   ],
   "source": [
    "retrieval_chain.invoke(\"What is ShwaTech Organization?\")"
   ]
  },
  {
   "cell_type": "code",
   "execution_count": 22,
   "id": "202b03e0",
   "metadata": {},
   "outputs": [
    {
     "data": {
      "text/plain": [
       "\"ShwaTech be a swashbucklin' organization that sets its sights on providin' treasure troves o' content, matey! They be focusin' on Data Science, AI, ML, DL, CV, NLP, LLM, Generative AI, Agentic AI, Quantum Computing, QML, QAI, and Competitive Programming, savvy? And they be servin' up all this booty in the English language, arrr!\""
      ]
     },
     "execution_count": 22,
     "metadata": {},
     "output_type": "execute_result"
    }
   ],
   "source": [
    "from operator import itemgetter\n",
    "\n",
    "from langchain_community.vectorstores import FAISS\n",
    "from langchain_core.output_parsers import StrOutputParser\n",
    "from langchain_core.prompts import ChatPromptTemplate\n",
    "from langchain_core.runnables import RunnablePassthrough\n",
    "from langchain_groq import ChatGroq\n",
    "from langchain_google_genai import GoogleGenerativeAIEmbeddings\n",
    "\n",
    "model = ChatGroq(model=\"llama-3.3-70b-versatile\")\n",
    "\n",
    "embeddings = GoogleGenerativeAIEmbeddings(model=\"text-embedding-004\")\n",
    "\n",
    "vectorstore = FAISS.from_texts(\n",
    "    [\"ShwaTech focuses on providing content on Data Science, AI, ML, DL, CV, NLP, LLM, Generative AI, Agentic AI, Quantum Computing, QML, QAI and Competitive Programming etc. in English.\"],\n",
    "    embedding=embeddings,\n",
    ")\n",
    "\n",
    "retriever = vectorstore.as_retriever()\n",
    "\n",
    "template = \"\"\"Answer the question based only on the following context:\n",
    "{context}\n",
    "\n",
    "Question: {question}\n",
    "\n",
    "Answer in the following language: {language}\n",
    "\"\"\"\n",
    "\n",
    "prompt = ChatPromptTemplate.from_template(template)\n",
    "\n",
    "chain = (\n",
    "    {  ## If Noticed I Donot Use RunnableParallel, As It is Used Behind the scene if we use {} \n",
    "        \"context\": itemgetter(\"question\") | retriever,\n",
    "        \"question\": itemgetter(\"question\"),\n",
    "        \"language\": itemgetter(\"language\"),\n",
    "    }\n",
    "    | prompt\n",
    "    | model\n",
    "    | StrOutputParser()\n",
    ")\n",
    "\n",
    "chain.invoke({\"question\": \"What is ShwaTech Organization?\", \"language\": \"Pirate English\"})"
   ]
  },
  {
   "cell_type": "code",
   "execution_count": null,
   "id": "103695f1",
   "metadata": {},
   "outputs": [],
   "source": []
  }
 ],
 "metadata": {
  "kernelspec": {
   "display_name": "langchain-env",
   "language": "python",
   "name": "python3"
  },
  "language_info": {
   "codemirror_mode": {
    "name": "ipython",
    "version": 3
   },
   "file_extension": ".py",
   "mimetype": "text/x-python",
   "name": "python",
   "nbconvert_exporter": "python",
   "pygments_lexer": "ipython3",
   "version": "3.11.13"
  }
 },
 "nbformat": 4,
 "nbformat_minor": 5
}
