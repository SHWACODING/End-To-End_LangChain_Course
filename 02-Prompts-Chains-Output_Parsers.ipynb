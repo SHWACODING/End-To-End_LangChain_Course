{
 "cells": [
  {
   "cell_type": "markdown",
   "id": "63fce543",
   "metadata": {},
   "source": [
    "### Groq chat Model ??"
   ]
  },
  {
   "cell_type": "code",
   "execution_count": 1,
   "id": "3fa7e2e4",
   "metadata": {},
   "outputs": [],
   "source": [
    "import os\n",
    "from dotenv import load_dotenv\n",
    "\n",
    "load_dotenv()\n",
    "\n",
    "os.environ[\"GROQ_API_KEY\"] = os.getenv(\"GROQ_API_KEY\")"
   ]
  },
  {
   "cell_type": "code",
   "execution_count": 2,
   "id": "dbf44c64",
   "metadata": {},
   "outputs": [
    {
     "data": {
      "text/plain": [
       "ChatGroq(client=<groq.resources.chat.completions.Completions object at 0x0000025088BC8E50>, async_client=<groq.resources.chat.completions.AsyncCompletions object at 0x0000025089CD8690>, model_name='llama-3.3-70b-versatile', model_kwargs={}, groq_api_key=SecretStr('**********'))"
      ]
     },
     "execution_count": 2,
     "metadata": {},
     "output_type": "execute_result"
    }
   ],
   "source": [
    "## completion Model\n",
    "from langchain_groq import ChatGroq\n",
    "\n",
    "chatModel = ChatGroq(model=\"llama-3.3-70b-versatile\")\n",
    "\n",
    "chatModel"
   ]
  },
  {
   "cell_type": "code",
   "execution_count": 3,
   "id": "2a369383",
   "metadata": {},
   "outputs": [
    {
     "name": "stdout",
     "output_type": "stream",
     "text": [
      "Quantum Machine Learning (QML) is an exciting and rapidly evolving field that combines the principles of quantum mechanics and machine learning to develop new algorithms and models for solving complex problems in various domains. In this explanation, we'll delve into the details of QML, its key concepts, techniques, and applications.\n",
      "\n",
      "**Introduction to Quantum Computing**\n",
      "\n",
      "Before diving into QML, let's briefly introduce the basics of quantum computing. Quantum computing is a new paradigm for computing that uses the principles of quantum mechanics to perform calculations and operations on data. Quantum computers use quantum bits or qubits, which can exist in multiple states simultaneously, allowing for exponential scaling of computational power.\n",
      "\n",
      "**Quantum Machine Learning**\n",
      "\n",
      "QML is an interdisciplinary field that applies quantum computing principles to machine learning problems. The primary goal of QML is to develop new algorithms and models that can efficiently solve complex problems in machine learning, such as:\n",
      "\n",
      "1. **Optimization problems**: QML can be used to solve optimization problems more efficiently than classical algorithms, which is crucial in machine learning.\n",
      "2. **Linear algebra**: QML can speed up linear algebra operations, such as matrix multiplication and eigenvalue decomposition, which are essential in many machine learning algorithms.\n",
      "3. **Pattern recognition**: QML can be applied to pattern recognition tasks, such as image and speech recognition, by using quantum computing principles to analyze and classify data.\n",
      "\n",
      "**Key Concepts in Quantum Machine Learning**\n",
      "\n",
      "1. **Quantum Circuit Learning**: This involves learning a quantum circuit that can be used to solve a specific machine learning problem.\n",
      "2. **Quantum Neural Networks**: These are neural networks that use quantum computing principles to perform computations and learn from data.\n",
      "3. **Quantum Support Vector Machines**: These are quantum versions of classical Support Vector Machines (SVMs), which can be used for classification and regression tasks.\n",
      "4. **Quantum k-Means**: This is a quantum version of the classical k-means clustering algorithm, which can be used for unsupervised learning tasks.\n",
      "\n",
      "**Techniques in Quantum Machine Learning**\n",
      "\n",
      "1. **Quantum Approximate Optimization Algorithm (QAOA)**: This is a quantum algorithm that can be used to solve optimization problems, such as the MaxCut problem.\n",
      "2. **Variational Quantum Eigensolver (VQE)**: This is a quantum algorithm that can be used to find the ground state of a Hamiltonian, which is essential in many machine learning problems.\n",
      "3. **Quantum Circuit Learning with Quantum Error Correction**: This involves learning a quantum circuit that can be used to solve a specific machine learning problem while also correcting errors that may occur during the computation.\n",
      "4. **Quantum Machine Learning with Quantum Walks**: This involves using quantum walks to solve machine learning problems, such as graph-based problems.\n",
      "\n",
      "**Applications of Quantum Machine Learning**\n",
      "\n",
      "1. **Image Recognition**: QML can be used to improve image recognition tasks, such as object detection and classification.\n",
      "2. **Natural Language Processing**: QML can be used to improve natural language processing tasks, such as text classification and sentiment analysis.\n",
      "3. **Recommendation Systems**: QML can be used to improve recommendation systems, such as personalized product recommendations.\n",
      "4. **Materials Science**: QML can be used to simulate the behavior of materials and predict their properties, which is essential in materials science research.\n",
      "\n",
      "**Challenges and Limitations**\n",
      "\n",
      "1. **Noise and Error Correction**: Quantum computers are prone to errors due to the noisy nature of quantum systems, which can affect the accuracy of QML algorithms.\n",
      "2. **Scalability**: Currently, quantum computers are not scalable to the same extent as classical computers, which limits the applicability of QML algorithms.\n",
      "3. **Interpretability**: QML models can be difficult to interpret, which makes it challenging to understand the decision-making process of the model.\n",
      "4. **Quantum Control**: Maintaining control over the quantum states of qubits is essential in QML, but it can be challenging due to the fragile nature of quantum systems.\n",
      "\n",
      "**Future Directions**\n",
      "\n",
      "1. **Development of New QML Algorithms**: Researchers are actively developing new QML algorithms that can solve complex problems in machine learning.\n",
      "2. **Improvement of Quantum Hardware**: Advancements in quantum hardware, such as the development of more robust and scalable quantum computers, will enable the widespread adoption of QML.\n",
      "3. **Hybrid Quantum-Classical Approaches**: Researchers are exploring hybrid approaches that combine the strengths of quantum and classical computing to solve machine learning problems.\n",
      "4. **Applications in Emerging Domains**: QML has the potential to be applied in emerging domains, such as healthcare, finance, and climate modeling, which can lead to breakthroughs in these fields.\n",
      "\n",
      "In conclusion, Quantum Machine Learning is a rapidly evolving field that combines the principles of quantum mechanics and machine learning to develop new algorithms and models for solving complex problems. While there are challenges and limitations to be addressed, the potential applications of QML are vast, and ongoing research is expected to lead to significant breakthroughs in the field.\n"
     ]
    }
   ],
   "source": [
    "response = chatModel.invoke(\"Explain me in details about Quantum Machine Learning\")\n",
    "\n",
    "print(response.content)"
   ]
  },
  {
   "cell_type": "markdown",
   "id": "2801e61f",
   "metadata": {},
   "source": [
    "### Prompt Template ??"
   ]
  },
  {
   "cell_type": "code",
   "execution_count": null,
   "id": "de192e66",
   "metadata": {},
   "outputs": [
    {
     "name": "stdout",
     "output_type": "stream",
     "text": [
      "content=\"**Mixture of Recursions: A Comprehensive Overview**\\n======================================================\\n\\nMixture of Recursions (MoR) is a statistical modeling technique used to analyze and forecast time series data. It is a generalization of traditional autoregressive (AR) and moving average (MA) models, which are commonly used in time series analysis. MoR models are particularly useful when dealing with complex, non-linear, and non-stationary time series data.\\n\\n**Introduction to Autoregressive (AR) and Moving Average (MA) Models**\\n----------------------------------------------------------------\\n\\nBefore diving into MoR, let's briefly review AR and MA models:\\n\\n*   **Autoregressive (AR) Model**: An AR model assumes that the current value of a time series is a function of past values. The AR model is defined as:\\n\\n    *Y(t) = c + φ1 \\\\* Y(t-1) + φ2 \\\\* Y(t-2) + … + φp \\\\* Y(t-p) + ε(t)*\\n\\n    where Y(t) is the time series value at time t, c is a constant, φi are the autoregressive coefficients, p is the order of the AR model, and ε(t) is the error term.\\n*   **Moving Average (MA) Model**: An MA model assumes that the current value of a time series is a function of past errors. The MA model is defined as:\\n\\n    *Y(t) = c + θ1 \\\\* ε(t-1) + θ2 \\\\* ε(t-2) + … + θq \\\\* ε(t-q) + ε(t)*\\n\\n    where Y(t) is the time series value at time t, c is a constant, θi are the moving average coefficients, q is the order of the MA model, and ε(t) is the error term.\\n\\n**What is a Mixture of Recursions (MoR) Model?**\\n----------------------------------------------\\n\\nA MoR model is a combination of multiple AR and/or MA models, each with its own set of parameters. The basic idea behind MoR is to model the time series data as a mixture of different recursive processes, each capturing a specific pattern or structure in the data.\\n\\nThe MoR model can be represented as:\\n\\n*Y(t) = ∑[i=1 to K] (wi \\\\* (c + φi \\\\* Y(t-1) + … + φip \\\\* Y(t-p) + θi \\\\* ε(t-1) + … + θiq \\\\* ε(t-q)) + ε(t))*\\n\\nwhere Y(t) is the time series value at time t, K is the number of components in the mixture, wi are the weights for each component, ci, φi, θi are the parameters for each component, p and q are the orders of the AR and MA models, respectively, and ε(t) is the error term.\\n\\n**Key Features of MoR Models**\\n---------------------------\\n\\n1.  **Flexibility**: MoR models can capture complex, non-linear, and non-stationary patterns in time series data.\\n2.  **Interpretability**: MoR models provide a clear interpretation of the underlying patterns and structures in the data.\\n3.  **Robustness**: MoR models can handle outliers and missing values in the data.\\n4.  **Scalability**: MoR models can be applied to large datasets and can be parallelized for efficient computation.\\n\\n**Applications of MoR Models**\\n---------------------------\\n\\nMoR models have a wide range of applications in:\\n\\n1.  **Time Series Forecasting**: MoR models can be used to forecast future values of a time series.\\n2.  **Anomaly Detection**: MoR models can be used to detect anomalies and outliers in time series data.\\n3.  **Clustering**: MoR models can be used to cluster time series data based on their underlying patterns and structures.\\n4.  **Classification**: MoR models can be used to classify time series data into different categories.\\n\\n**Example Use Case: Time Series Forecasting**\\n-----------------------------------------\\n\\nSuppose we have a time series dataset of daily sales for a retail company. We can use a MoR model to forecast future sales. The MoR model can capture the underlying patterns and structures in the data, such as seasonal trends, weekly cycles, and irregular fluctuations.\\n\\nHere is an example code in Python using the `statsmodels` library to implement a MoR model:\\n```python\\nimport pandas as pd\\nimport numpy as np\\nfrom statsmodels.tsa.arima.model import ARIMA\\nfrom sklearn.model_selection import train_test_split\\n\\n# Load the time series dataset\\ndf = pd.read_csv('daily_sales.csv', index_col='date', parse_dates=['date'])\\n\\n# Split the data into training and testing sets\\ntrain, test = train_test_split(df, test_size=0.2, random_state=42)\\n\\n# Define the MoR model\\ndef mor_model(train, test):\\n    # Define the number of components in the mixture\\n    K = 3\\n    \\n    # Initialize the weights and parameters for each component\\n    weights = np.array([1/3, 1/3, 1/3])\\n    params = []\\n    \\n    # Define the AR and MA orders for each component\\n    ar_orders = [1, 2, 3]\\n    ma_orders = [1, 2, 3]\\n    \\n    # Estimate the parameters for each component\\n    for i in range(K):\\n        arima_model = ARIMA(train, order=(ar_orders[i], 0, ma_orders[i]))\\n        params.append(arima_model.fit())\\n    \\n    # Forecast the future values using the MoR model\\n    forecasts = []\\n    for i in range(len(test)):\\n        forecast = 0\\n        for j in range(K):\\n            forecast += weights[j] * params[j].forecast(steps=1)\\n        forecasts.append(forecast)\\n    \\n    return forecasts\\n\\n# Evaluate the MoR model\\nforecasts = mor_model(train, test)\\nprint('MoR Model Forecasts:', forecasts)\\n```\\nIn this example, we define a MoR model with three components, each with its own set of AR and MA parameters. We estimate the parameters for each component using the `ARIMA` model and then forecast the future values using the MoR model. The forecasts are then evaluated using the mean absolute error (MAE) or mean squared error (MSE) metrics.\\n\\n**Conclusion**\\n----------\\n\\nIn conclusion, MoR models are a powerful tool for analyzing and forecasting time series data. They offer a flexible and interpretable way to capture complex patterns and structures in the data. By combining multiple AR and MA models, MoR models can provide more accurate forecasts and better handle non-linear and non-stationary data. With their wide range of applications in time series forecasting, anomaly detection, clustering, and classification, MoR models are an essential technique in the field of time series analysis.\" additional_kwargs={} response_metadata={'token_usage': {'completion_tokens': 1421, 'prompt_tokens': 46, 'total_tokens': 1467, 'completion_time': 2.85919375, 'prompt_time': 0.020858753, 'queue_time': 0.08504714799999999, 'total_time': 2.880052503}, 'model_name': 'llama-3.3-70b-versatile', 'system_fingerprint': 'fp_3f3b593e33', 'service_tier': 'on_demand', 'finish_reason': 'stop', 'logprobs': None} id='run--9cfeeb85-543a-48d8-b2e0-9820beb82c78-0' usage_metadata={'input_tokens': 46, 'output_tokens': 1421, 'total_tokens': 1467}\n"
     ]
    }
   ],
   "source": [
    "# ===================================\n",
    "# This Is For Completion Model ??\n",
    "# ===================================\n",
    "from langchain_core.prompts import PromptTemplate\n",
    "\n",
    "prompt_template = PromptTemplate.from_template(\n",
    "    \"Explain me in details about {topic}\"\n",
    ")\n",
    "\n",
    "myPrompt = prompt_template.format(\n",
    "    topic=\"Mixture of Recursions\"\n",
    ")\n",
    "\n",
    "response = chatModel.invoke(myPrompt)\n",
    "\n",
    "print(response)"
   ]
  },
  {
   "cell_type": "code",
   "execution_count": 5,
   "id": "e12cefd0",
   "metadata": {},
   "outputs": [
    {
     "name": "stdout",
     "output_type": "stream",
     "text": [
      "**Mixture of Recursions: A Comprehensive Overview**\n",
      "======================================================\n",
      "\n",
      "Mixture of Recursions (MoR) is a statistical modeling technique used to analyze and forecast time series data. It is a generalization of traditional autoregressive (AR) and moving average (MA) models, which are commonly used in time series analysis. MoR models are particularly useful when dealing with complex, non-linear, and non-stationary time series data.\n",
      "\n",
      "**Introduction to Autoregressive (AR) and Moving Average (MA) Models**\n",
      "----------------------------------------------------------------\n",
      "\n",
      "Before diving into MoR, let's briefly review AR and MA models:\n",
      "\n",
      "*   **Autoregressive (AR) Model**: An AR model assumes that the current value of a time series is a function of past values. The AR model is defined as:\n",
      "\n",
      "    *Y(t) = c + φ1 \\* Y(t-1) + φ2 \\* Y(t-2) + … + φp \\* Y(t-p) + ε(t)*\n",
      "\n",
      "    where Y(t) is the time series value at time t, c is a constant, φi are the autoregressive coefficients, p is the order of the AR model, and ε(t) is the error term.\n",
      "*   **Moving Average (MA) Model**: An MA model assumes that the current value of a time series is a function of past errors. The MA model is defined as:\n",
      "\n",
      "    *Y(t) = c + θ1 \\* ε(t-1) + θ2 \\* ε(t-2) + … + θq \\* ε(t-q) + ε(t)*\n",
      "\n",
      "    where Y(t) is the time series value at time t, c is a constant, θi are the moving average coefficients, q is the order of the MA model, and ε(t) is the error term.\n",
      "\n",
      "**What is a Mixture of Recursions (MoR) Model?**\n",
      "----------------------------------------------\n",
      "\n",
      "A MoR model is a combination of multiple AR and/or MA models, each with its own set of parameters. The basic idea behind MoR is to model the time series data as a mixture of different recursive processes, each capturing a specific pattern or structure in the data.\n",
      "\n",
      "The MoR model can be represented as:\n",
      "\n",
      "*Y(t) = ∑[i=1 to K] (wi \\* (c + φi \\* Y(t-1) + … + φip \\* Y(t-p) + θi \\* ε(t-1) + … + θiq \\* ε(t-q)) + ε(t))*\n",
      "\n",
      "where Y(t) is the time series value at time t, K is the number of components in the mixture, wi are the weights for each component, ci, φi, θi are the parameters for each component, p and q are the orders of the AR and MA models, respectively, and ε(t) is the error term.\n",
      "\n",
      "**Key Features of MoR Models**\n",
      "---------------------------\n",
      "\n",
      "1.  **Flexibility**: MoR models can capture complex, non-linear, and non-stationary patterns in time series data.\n",
      "2.  **Interpretability**: MoR models provide a clear interpretation of the underlying patterns and structures in the data.\n",
      "3.  **Robustness**: MoR models can handle outliers and missing values in the data.\n",
      "4.  **Scalability**: MoR models can be applied to large datasets and can be parallelized for efficient computation.\n",
      "\n",
      "**Applications of MoR Models**\n",
      "---------------------------\n",
      "\n",
      "MoR models have a wide range of applications in:\n",
      "\n",
      "1.  **Time Series Forecasting**: MoR models can be used to forecast future values of a time series.\n",
      "2.  **Anomaly Detection**: MoR models can be used to detect anomalies and outliers in time series data.\n",
      "3.  **Clustering**: MoR models can be used to cluster time series data based on their underlying patterns and structures.\n",
      "4.  **Classification**: MoR models can be used to classify time series data into different categories.\n",
      "\n",
      "**Example Use Case: Time Series Forecasting**\n",
      "-----------------------------------------\n",
      "\n",
      "Suppose we have a time series dataset of daily sales for a retail company. We can use a MoR model to forecast future sales. The MoR model can capture the underlying patterns and structures in the data, such as seasonal trends, weekly cycles, and irregular fluctuations.\n",
      "\n",
      "Here is an example code in Python using the `statsmodels` library to implement a MoR model:\n",
      "```python\n",
      "import pandas as pd\n",
      "import numpy as np\n",
      "from statsmodels.tsa.arima.model import ARIMA\n",
      "from sklearn.model_selection import train_test_split\n",
      "\n",
      "# Load the time series dataset\n",
      "df = pd.read_csv('daily_sales.csv', index_col='date', parse_dates=['date'])\n",
      "\n",
      "# Split the data into training and testing sets\n",
      "train, test = train_test_split(df, test_size=0.2, random_state=42)\n",
      "\n",
      "# Define the MoR model\n",
      "def mor_model(train, test):\n",
      "    # Define the number of components in the mixture\n",
      "    K = 3\n",
      "    \n",
      "    # Initialize the weights and parameters for each component\n",
      "    weights = np.array([1/3, 1/3, 1/3])\n",
      "    params = []\n",
      "    \n",
      "    # Define the AR and MA orders for each component\n",
      "    ar_orders = [1, 2, 3]\n",
      "    ma_orders = [1, 2, 3]\n",
      "    \n",
      "    # Estimate the parameters for each component\n",
      "    for i in range(K):\n",
      "        arima_model = ARIMA(train, order=(ar_orders[i], 0, ma_orders[i]))\n",
      "        params.append(arima_model.fit())\n",
      "    \n",
      "    # Forecast the future values using the MoR model\n",
      "    forecasts = []\n",
      "    for i in range(len(test)):\n",
      "        forecast = 0\n",
      "        for j in range(K):\n",
      "            forecast += weights[j] * params[j].forecast(steps=1)\n",
      "        forecasts.append(forecast)\n",
      "    \n",
      "    return forecasts\n",
      "\n",
      "# Evaluate the MoR model\n",
      "forecasts = mor_model(train, test)\n",
      "print('MoR Model Forecasts:', forecasts)\n",
      "```\n",
      "In this example, we define a MoR model with three components, each with its own set of AR and MA parameters. We estimate the parameters for each component using the `ARIMA` model and then forecast the future values using the MoR model. The forecasts are then evaluated using the mean absolute error (MAE) or mean squared error (MSE) metrics.\n",
      "\n",
      "**Conclusion**\n",
      "----------\n",
      "\n",
      "In conclusion, MoR models are a powerful tool for analyzing and forecasting time series data. They offer a flexible and interpretable way to capture complex patterns and structures in the data. By combining multiple AR and MA models, MoR models can provide more accurate forecasts and better handle non-linear and non-stationary data. With their wide range of applications in time series forecasting, anomaly detection, clustering, and classification, MoR models are an essential technique in the field of time series analysis.\n"
     ]
    }
   ],
   "source": [
    "print(response.content)"
   ]
  },
  {
   "cell_type": "code",
   "execution_count": 6,
   "id": "1158b926",
   "metadata": {},
   "outputs": [
    {
     "name": "stdout",
     "output_type": "stream",
     "text": [
      "Quantum Machine Learning (QML) is an exciting and rapidly evolving field that combines the principles of quantum computing and machine learning to develop new algorithms and models that can solve complex problems more efficiently than classical machine learning approaches.\n",
      "\n",
      "In classical machine learning, algorithms are designed to operate on classical bits, which can only exist in one of two states: 0 or 1. However, quantum computers use quantum bits or qubits, which can exist in multiple states simultaneously, allowing for exponentially more complex computations.\n",
      "\n",
      "QML aims to leverage the unique properties of qubits, such as superposition, entanglement, and interference, to enhance the performance of machine learning algorithms. This can lead to breakthroughs in areas like:\n",
      "\n",
      "1. **Speedup**: Quantum computers can solve certain problems much faster than classical computers, which can significantly accelerate machine learning tasks like optimization, clustering, and dimensionality reduction.\n",
      "2. **Improved accuracy**: Quantum algorithms can explore a vast solution space more efficiently, potentially leading to more accurate models and better generalization.\n",
      "3. **New applications**: QML can enable the solution of problems that are intractable or impractical with classical machine learning, such as simulating complex systems, optimizing complex processes, or analyzing large datasets.\n",
      "\n",
      "Some popular QML algorithms include:\n",
      "\n",
      "1. **Quantum k-Means**: A quantum version of the classical k-means clustering algorithm.\n",
      "2. **Quantum Support Vector Machines (QSVM)**: A quantum implementation of the popular SVM algorithm.\n",
      "3. **Quantum Neural Networks (QNNs)**: Quantum circuits that mimic the behavior of classical neural networks.\n",
      "\n",
      "QML has many potential applications across various fields, including:\n",
      "\n",
      "1. **Computer vision**: Image recognition, object detection, and image classification.\n",
      "2. **Natural Language Processing (NLP)**: Text classification, sentiment analysis, and language modeling.\n",
      "3. **Materials science**: Simulation of material properties, optimization of material design, and discovery of new materials.\n",
      "\n",
      "While QML is still in its early stages, it has the potential to revolutionize the field of machine learning and enable new breakthroughs in various areas of science and engineering.\n",
      "\n",
      "Would you like to know more about a specific aspect of QML?\n"
     ]
    }
   ],
   "source": [
    "# =================================\n",
    "# Chat Completion Model ??\n",
    "# =================================\n",
    "\n",
    "from langchain_core.prompts import ChatPromptTemplate\n",
    "\n",
    "chat_template = ChatPromptTemplate.from_messages([\n",
    "    (\"system\", \"You are an {profession} expert on {topic}.\"),\n",
    "    (\"human\", \"Hello, Mr. {profession}, can you please answer a question?\"),\n",
    "    (\"ai\", \"Sure!\"),\n",
    "    (\"human\", \"{user_input}\"),\n",
    "])\n",
    "\n",
    "messages = chat_template.format_messages(\n",
    "    profession=\"Quantum Computing Engineer\",\n",
    "    topic=\"Quantum Machine Learning\",\n",
    "    user_input=\"What is Quantum Machine Learning?\",\n",
    ")\n",
    "\n",
    "response = chatModel.invoke(messages)\n",
    "\n",
    "print(response.content)"
   ]
  },
  {
   "cell_type": "code",
   "execution_count": 7,
   "id": "bc93a0e2",
   "metadata": {},
   "outputs": [
    {
     "name": "stdout",
     "output_type": "stream",
     "text": [
      "Quantum Machine Learning (QML) is an emerging field that combines the principles of quantum computing and machine learning to develop new algorithms and models for solving complex problems in machine learning and related areas. In this explanation, I'll provide an in-depth overview of QML, its key concepts, and its potential applications.\n",
      "\n",
      "**Introduction to Quantum Computing**\n",
      "\n",
      "Before diving into QML, let's briefly review the basics of quantum computing. Quantum computing is a new paradigm for computing that uses the principles of quantum mechanics to perform calculations. Quantum computers use quantum bits or qubits, which can exist in multiple states simultaneously, allowing for parallel processing of vast amounts of information.\n",
      "\n",
      "**Classical Machine Learning vs. Quantum Machine Learning**\n",
      "\n",
      "Classical machine learning (CML) relies on classical computers to process and analyze data. CML algorithms, such as support vector machines, decision trees, and neural networks, are designed to optimize performance on classical computers. However, as the size and complexity of datasets grow, CML algorithms can become computationally expensive and struggle to keep up.\n",
      "\n",
      "QML, on the other hand, leverages the power of quantum computing to speed up machine learning tasks. By exploiting quantum parallelism, QML algorithms can efficiently process large datasets and tackle complex problems that are intractable for classical computers.\n",
      "\n",
      "**Key Concepts in Quantum Machine Learning**\n",
      "\n",
      "1. **Quantum Circuit Learning**: Quantum circuit learning is a QML approach that uses quantum circuits to implement machine learning algorithms. Quantum circuits are sequences of quantum gates that perform specific operations on qubits.\n",
      "2. **Quantum Kernels**: Quantum kernels are mathematical functions that map classical data to quantum states, allowing for the application of quantum machine learning algorithms. Quantum kernels can be used to speed up classical machine learning algorithms or to develop new quantum-inspired algorithms.\n",
      "3. **Quantum Support Vector Machines (QSVMs)**: QSVMs are a type of QML algorithm that uses quantum computing to speed up support vector machine (SVM) computations. QSVMs have been shown to outperform classical SVMs on certain tasks.\n",
      "4. **Quantum Neural Networks (QNNs)**: QNNs are a type of QML algorithm that uses quantum computing to speed up neural network computations. QNNs have been shown to achieve state-of-the-art performance on certain tasks, such as image classification and natural language processing.\n",
      "5. **Quantum Dimensionality Reduction**: Quantum dimensionality reduction is a QML technique that uses quantum computing to reduce the dimensionality of high-dimensional datasets. This can improve the efficiency of machine learning algorithms and reduce the risk of overfitting.\n",
      "\n",
      "**Quantum Machine Learning Algorithms**\n",
      "\n",
      "Some popular QML algorithms include:\n",
      "\n",
      "1. **Quantum k-Means (Qk-Means)**: Qk-Means is a QML algorithm that uses quantum computing to speed up k-means clustering computations.\n",
      "2. **Quantum Principal Component Analysis (QPCA)**: QPCA is a QML algorithm that uses quantum computing to speed up principal component analysis (PCA) computations.\n",
      "3. **Quantum Linear Regression (QLR)**: QLR is a QML algorithm that uses quantum computing to speed up linear regression computations.\n",
      "4. **Quantum Decision Trees (QDTs)**: QDTs are a QML algorithm that uses quantum computing to speed up decision tree computations.\n",
      "\n",
      "**Applications of Quantum Machine Learning**\n",
      "\n",
      "QML has the potential to revolutionize various fields, including:\n",
      "\n",
      "1. **Computer Vision**: QML can be used to improve image recognition, object detection, and image segmentation tasks.\n",
      "2. **Natural Language Processing**: QML can be used to improve language translation, text classification, and sentiment analysis tasks.\n",
      "3. **Speech Recognition**: QML can be used to improve speech recognition and speech-to-text systems.\n",
      "4. **Materials Science**: QML can be used to simulate the behavior of materials and predict their properties.\n",
      "5. **Chemistry**: QML can be used to simulate the behavior of molecules and predict their properties.\n",
      "\n",
      "**Challenges and Limitations**\n",
      "\n",
      "While QML has the potential to revolutionize machine learning, there are several challenges and limitations that need to be addressed, including:\n",
      "\n",
      "1. **Quantum Noise**: Quantum noise can cause errors in QML computations, which can lead to inaccurate results.\n",
      "2. **Quantum Control**: Maintaining control over quantum systems is essential for reliable QML computations.\n",
      "3. **Scalability**: Currently, most QML algorithms are designed for small-scale problems, and scaling up to larger problems is a significant challenge.\n",
      "4. **Quantum-Classical Interoperability**: Seamlessly integrating quantum and classical systems is essential for practical QML applications.\n",
      "\n",
      "**Conclusion**\n",
      "\n",
      "Quantum Machine Learning is a rapidly evolving field that has the potential to revolutionize machine learning and related areas. By leveraging the power of quantum computing, QML algorithms can efficiently process large datasets and tackle complex problems that are intractable for classical computers. While there are challenges and limitations to be addressed, the potential applications of QML are vast and exciting, and ongoing research is expected to lead to significant breakthroughs in the coming years.\n",
      "\n",
      "**Future Directions**\n",
      "\n",
      "As QML continues to evolve, we can expect to see significant advancements in the following areas:\n",
      "\n",
      "1. **Quantum Algorithm Development**: New QML algorithms will be developed to tackle specific problems and improve performance.\n",
      "2. **Quantum Hardware Development**: Advances in quantum hardware will enable more reliable and scalable QML computations.\n",
      "3. **Quantum-Classical Interoperability**: Improved interoperability between quantum and classical systems will enable seamless integration of QML into practical applications.\n",
      "4. **Quantum Machine Learning Software**: Development of QML software frameworks and tools will simplify the implementation and deployment of QML algorithms.\n",
      "\n",
      "In summary, Quantum Machine Learning is a rapidly evolving field that has the potential to revolutionize machine learning and related areas. While there are challenges and limitations to be addressed, the potential applications of QML are vast and exciting, and ongoing research is expected to lead to significant breakthroughs in the coming years.\n"
     ]
    }
   ],
   "source": [
    "# ============================\n",
    "# OLD WAY Approach\n",
    "# ============================\n",
    "\n",
    "from langchain_core.messages import SystemMessage\n",
    "from langchain_core.prompts import HumanMessagePromptTemplate\n",
    "\n",
    "chat_template = ChatPromptTemplate.from_messages(\n",
    "    [\n",
    "        SystemMessage(\n",
    "            content=(\n",
    "                \"You are an Quantum Computing Engineer expert on Quantum Machine Learning.\"\n",
    "            )\n",
    "        ),\n",
    "        HumanMessagePromptTemplate.from_template(\"{user_input}\"),\n",
    "    ]\n",
    ")\n",
    "\n",
    "messages = chat_template.format_messages(\n",
    "    user_input=\"Explain me in details about Quantum Machine Learning?\"\n",
    ")\n",
    "\n",
    "response = chatModel.invoke(messages)\n",
    "\n",
    "print(response.content)"
   ]
  },
  {
   "cell_type": "markdown",
   "id": "de19f4c8",
   "metadata": {},
   "source": [
    "### Prompts ->"
   ]
  },
  {
   "cell_type": "markdown",
   "id": "d01bf632",
   "metadata": {},
   "source": [
    "#### Few Shot Prompting ??"
   ]
  },
  {
   "cell_type": "code",
   "execution_count": null,
   "id": "f6a881cc",
   "metadata": {},
   "outputs": [
    {
     "name": "stdout",
     "output_type": "stream",
     "text": [
      "messages=[SystemMessage(content='You are an English-Spanish translator.', additional_kwargs={}, response_metadata={}), HumanMessage(content='hi!', additional_kwargs={}, response_metadata={}), AIMessage(content='¡hola!', additional_kwargs={}, response_metadata={}), HumanMessage(content='bye!', additional_kwargs={}, response_metadata={}), AIMessage(content='¡adiós!', additional_kwargs={}, response_metadata={}), HumanMessage(content='welcome!', additional_kwargs={}, response_metadata={})]\n"
     ]
    }
   ],
   "source": [
    "from langchain_core.prompts import FewShotChatMessagePromptTemplate\n",
    "\n",
    "examples = [\n",
    "    {\"input\": \"hi!\", \"output\": \"¡hola!\"},\n",
    "    {\"input\": \"bye!\", \"output\": \"¡adiós!\"},\n",
    "]\n",
    "\n",
    "example_prompt = ChatPromptTemplate.from_messages(\n",
    "    [\n",
    "        (\"human\", \"{input}\"),\n",
    "        (\"ai\", \"{output}\"),\n",
    "    ]\n",
    ")\n",
    "\n",
    "few_shot_prompt = FewShotChatMessagePromptTemplate(\n",
    "    example_prompt=example_prompt,\n",
    "    examples=examples,\n",
    ")\n",
    "\n",
    "final_prompt = ChatPromptTemplate.from_messages(\n",
    "    [\n",
    "        (\"system\", \"You are an English-Spanish translator.\"),\n",
    "        few_shot_prompt,\n",
    "        (\"human\", \"{input}\"),\n",
    "    ]\n",
    ")\n",
    "\n",
    "print(final_prompt.invoke({\"input\": \"welcome!\"}))\n"
   ]
  },
  {
   "cell_type": "markdown",
   "id": "4a72b509",
   "metadata": {},
   "source": [
    "### Chains ??"
   ]
  },
  {
   "cell_type": "code",
   "execution_count": null,
   "id": "d104ef27",
   "metadata": {},
   "outputs": [
    {
     "name": "stdout",
     "output_type": "stream",
     "text": [
      "Estoy bien, ¿y tú? (I'm fine, and you?)\n"
     ]
    }
   ],
   "source": [
    "from langchain_core.prompts import FewShotChatMessagePromptTemplate\n",
    "\n",
    "examples = [\n",
    "    {\"input\": \"hi!\", \"output\": \"¡hola!\"},\n",
    "    {\"input\": \"bye!\", \"output\": \"¡adiós!\"},\n",
    "]\n",
    "\n",
    "example_prompt = ChatPromptTemplate.from_messages(\n",
    "    [\n",
    "        (\"human\", \"{input}\"),\n",
    "        (\"ai\", \"{output}\"),\n",
    "    ]\n",
    ")\n",
    "\n",
    "few_shot_prompt = FewShotChatMessagePromptTemplate(\n",
    "    example_prompt=example_prompt,\n",
    "    examples=examples,\n",
    ")\n",
    "\n",
    "final_prompt = ChatPromptTemplate.from_messages(\n",
    "    [\n",
    "        (\"system\", \"You are an English-Spanish translator.\"),\n",
    "        few_shot_prompt,\n",
    "        (\"human\", \"{input}\"),\n",
    "    ]\n",
    ")\n",
    "\n",
    "### Langchain Expressions Language\n",
    "chain = final_prompt | chatModel\n",
    "\n",
    "res = chain.invoke({\"input\": \"How are you?\"})\n",
    "\n",
    "print(res.content)"
   ]
  },
  {
   "cell_type": "markdown",
   "id": "d62fe791",
   "metadata": {},
   "source": [
    "### OutPut Parsers ??"
   ]
  },
  {
   "cell_type": "code",
   "execution_count": 10,
   "id": "134ca697",
   "metadata": {},
   "outputs": [],
   "source": [
    "from langchain_core.prompts import PromptTemplate\n",
    "from langchain.output_parsers.json import SimpleJsonOutputParser\n",
    "\n",
    "json_prompt = PromptTemplate.from_template(\n",
    "    \"Return a JSON object with an `answer` key that answers the following question: {question}\"\n",
    ")\n",
    "\n",
    "json_parser = SimpleJsonOutputParser()\n",
    "\n",
    "json_chain = json_prompt | chatModel | json_parser"
   ]
  },
  {
   "cell_type": "code",
   "execution_count": 11,
   "id": "1f69cdee",
   "metadata": {},
   "outputs": [
    {
     "data": {
      "text/plain": [
       "'Return a JSON object.'"
      ]
     },
     "execution_count": 11,
     "metadata": {},
     "output_type": "execute_result"
    }
   ],
   "source": [
    "json_parser.get_format_instructions()"
   ]
  },
  {
   "cell_type": "code",
   "execution_count": 12,
   "id": "e19d3642",
   "metadata": {},
   "outputs": [],
   "source": [
    "res  = json_chain.invoke({\"question\": \"What is the biggest country?\"})"
   ]
  },
  {
   "cell_type": "code",
   "execution_count": 13,
   "id": "55ce70ae",
   "metadata": {},
   "outputs": [
    {
     "data": {
      "text/plain": [
       "{'answer': 'Russia'}"
      ]
     },
     "execution_count": 13,
     "metadata": {},
     "output_type": "execute_result"
    }
   ],
   "source": [
    "res"
   ]
  },
  {
   "cell_type": "code",
   "execution_count": 14,
   "id": "958704b0",
   "metadata": {},
   "outputs": [
    {
     "data": {
      "text/plain": [
       "dict"
      ]
     },
     "execution_count": 14,
     "metadata": {},
     "output_type": "execute_result"
    }
   ],
   "source": [
    "type(res)"
   ]
  },
  {
   "cell_type": "markdown",
   "id": "7d33722e",
   "metadata": {},
   "source": [
    "##### Optionally, you can use Pydantic to define a custom output format"
   ]
  },
  {
   "cell_type": "code",
   "execution_count": 15,
   "id": "2912cd81",
   "metadata": {},
   "outputs": [],
   "source": [
    "from langchain_core.output_parsers import JsonOutputParser\n",
    "from langchain_core.prompts import PromptTemplate\n",
    "from pydantic import BaseModel, Field"
   ]
  },
  {
   "cell_type": "code",
   "execution_count": 16,
   "id": "8d2ae340",
   "metadata": {},
   "outputs": [],
   "source": [
    "## Define a Pydantic Object with the desired output format.\n",
    "\n",
    "class Joke(BaseModel):\n",
    "    setup: str = Field(description=\"question to set up a joke\")\n",
    "    punchline: str = Field(description=\"answer to resolve the joke\")"
   ]
  },
  {
   "cell_type": "code",
   "execution_count": 17,
   "id": "167567a2",
   "metadata": {},
   "outputs": [
    {
     "data": {
      "text/plain": [
       "{'setup': \"Why couldn't the bicycle stand up by itself?\",\n",
       " 'punchline': 'Because it was two-tired.'}"
      ]
     },
     "execution_count": 17,
     "metadata": {},
     "output_type": "execute_result"
    }
   ],
   "source": [
    "## Define the parser referring the Pydantic Object\n",
    "parser = JsonOutputParser(pydantic_object=Joke)\n",
    "\n",
    "## Add the parser format instructions in the prompt definition.\n",
    "prompt = PromptTemplate(\n",
    "    template=\"Answer the user query.\\n{format_instructions}\\n{query}\\n\",\n",
    "    input_variables=[\"query\"],\n",
    "    partial_variables={\"format_instructions\": parser.get_format_instructions()},\n",
    ")\n",
    "\n",
    "## Create a chain with the prompt and the parser\n",
    "chain = prompt | chatModel | parser\n",
    "\n",
    "chain.invoke({\"query\": \"Tell me a joke.\"})"
   ]
  },
  {
   "cell_type": "code",
   "execution_count": null,
   "id": "9a8e7f43",
   "metadata": {},
   "outputs": [],
   "source": []
  }
 ],
 "metadata": {
  "kernelspec": {
   "display_name": "langchain-env",
   "language": "python",
   "name": "python3"
  },
  "language_info": {
   "codemirror_mode": {
    "name": "ipython",
    "version": 3
   },
   "file_extension": ".py",
   "mimetype": "text/x-python",
   "name": "python",
   "nbconvert_exporter": "python",
   "pygments_lexer": "ipython3",
   "version": "3.11.13"
  }
 },
 "nbformat": 4,
 "nbformat_minor": 5
}
