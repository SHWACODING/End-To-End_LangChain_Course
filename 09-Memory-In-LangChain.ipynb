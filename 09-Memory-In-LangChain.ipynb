{
 "cells": [
  {
   "cell_type": "markdown",
   "id": "daab5c3a",
   "metadata": {},
   "source": [
    "## Memory In LangChain"
   ]
  },
  {
   "cell_type": "code",
   "execution_count": 1,
   "id": "d7a29305",
   "metadata": {},
   "outputs": [],
   "source": [
    "import os\n",
    "from dotenv import load_dotenv\n",
    "\n",
    "load_dotenv()\n",
    "\n",
    "os.environ[\"GROQ_API_KEY\"] = os.getenv(\"GROQ_API_KEY\")\n",
    "os.environ[\"GOOGLE_API_KEY\"] = os.getenv(\"GOOGLE_API_KEY\")"
   ]
  },
  {
   "cell_type": "code",
   "execution_count": 2,
   "id": "4ca84793",
   "metadata": {},
   "outputs": [
    {
     "data": {
      "text/plain": [
       "ChatGroq(client=<groq.resources.chat.completions.Completions object at 0x0000025542F90710>, async_client=<groq.resources.chat.completions.AsyncCompletions object at 0x00000255430CF910>, model_name='llama-3.3-70b-versatile', model_kwargs={}, groq_api_key=SecretStr('**********'))"
      ]
     },
     "execution_count": 2,
     "metadata": {},
     "output_type": "execute_result"
    }
   ],
   "source": [
    "from langchain_groq import ChatGroq\n",
    "\n",
    "llm = ChatGroq(model=\"llama-3.3-70b-versatile\")\n",
    "\n",
    "llm"
   ]
  },
  {
   "cell_type": "markdown",
   "id": "4ca91fb7",
   "metadata": {},
   "source": [
    "### Buffer Memory\n",
    "- Save list of chat messages and then fetch them all."
   ]
  },
  {
   "cell_type": "code",
   "execution_count": 3,
   "id": "26a9ce9c",
   "metadata": {},
   "outputs": [],
   "source": [
    "from langchain_core.prompts import (\n",
    "    ChatPromptTemplate,\n",
    "    MessagesPlaceholder,\n",
    "    SystemMessagePromptTemplate,\n",
    "    HumanMessagePromptTemplate,\n",
    ")\n",
    "from langchain.chains import LLMChain\n",
    "from langchain.memory import ConversationBufferMemory"
   ]
  },
  {
   "cell_type": "code",
   "execution_count": 4,
   "id": "019fd6a2",
   "metadata": {},
   "outputs": [],
   "source": [
    "prompt = ChatPromptTemplate(\n",
    "    messages=[\n",
    "        SystemMessagePromptTemplate.from_template(\n",
    "            \"You are a nice chatbot having a conversation with a human.\"\n",
    "        ),\n",
    "        # The `variable_name` here is what must align with memory\n",
    "        MessagesPlaceholder(variable_name=\"chat_history\"),\n",
    "        HumanMessagePromptTemplate.from_template(\"{question}\")\n",
    "    ]\n",
    ")"
   ]
  },
  {
   "cell_type": "code",
   "execution_count": 5,
   "id": "eff10450",
   "metadata": {},
   "outputs": [
    {
     "name": "stderr",
     "output_type": "stream",
     "text": [
      "C:\\Users\\hp\\AppData\\Local\\Temp\\ipykernel_19248\\515166408.py:1: LangChainDeprecationWarning: Please see the migration guide at: https://python.langchain.com/docs/versions/migrating_memory/\n",
      "  memory = ConversationBufferMemory(\n"
     ]
    }
   ],
   "source": [
    "memory = ConversationBufferMemory(\n",
    "    memory_key=\"chat_history\",\n",
    "    return_messages=True\n",
    ")"
   ]
  },
  {
   "cell_type": "code",
   "execution_count": 6,
   "id": "6a50ab4f",
   "metadata": {},
   "outputs": [
    {
     "name": "stderr",
     "output_type": "stream",
     "text": [
      "C:\\Users\\hp\\AppData\\Local\\Temp\\ipykernel_19248\\2732912682.py:1: LangChainDeprecationWarning: The class `LLMChain` was deprecated in LangChain 0.1.17 and will be removed in 1.0. Use :meth:`~RunnableSequence, e.g., `prompt | llm`` instead.\n",
      "  conversation = LLMChain(\n"
     ]
    }
   ],
   "source": [
    "conversation = LLMChain(\n",
    "    llm=llm,\n",
    "    prompt=prompt,\n",
    "    verbose=True,\n",
    "    memory=memory\n",
    ")"
   ]
  },
  {
   "cell_type": "code",
   "execution_count": 7,
   "id": "dff0ea78",
   "metadata": {},
   "outputs": [
    {
     "name": "stderr",
     "output_type": "stream",
     "text": [
      "C:\\Users\\hp\\AppData\\Local\\Temp\\ipykernel_19248\\2374281861.py:1: LangChainDeprecationWarning: The method `Chain.__call__` was deprecated in langchain 0.1.0 and will be removed in 1.0. Use :meth:`~invoke` instead.\n",
      "  conversation({\"question\": \"Hello\"})\n"
     ]
    },
    {
     "name": "stdout",
     "output_type": "stream",
     "text": [
      "\n",
      "\n",
      "\u001b[1m> Entering new LLMChain chain...\u001b[0m\n",
      "Prompt after formatting:\n",
      "\u001b[32;1m\u001b[1;3mSystem: You are a nice chatbot having a conversation with a human.\n",
      "Human: Hello\u001b[0m\n",
      "\n",
      "\u001b[1m> Finished chain.\u001b[0m\n"
     ]
    },
    {
     "data": {
      "text/plain": [
       "{'question': 'Hello',\n",
       " 'chat_history': [HumanMessage(content='Hello', additional_kwargs={}, response_metadata={}),\n",
       "  AIMessage(content=\"Hello! It's nice to meet you. How are you doing today? Is there something on your mind that you'd like to talk about, or would you like to just chat and see where the conversation takes us?\", additional_kwargs={}, response_metadata={})],\n",
       " 'text': \"Hello! It's nice to meet you. How are you doing today? Is there something on your mind that you'd like to talk about, or would you like to just chat and see where the conversation takes us?\"}"
      ]
     },
     "execution_count": 7,
     "metadata": {},
     "output_type": "execute_result"
    }
   ],
   "source": [
    "conversation({\"question\": \"Hello\"})"
   ]
  },
  {
   "cell_type": "code",
   "execution_count": 8,
   "id": "62941ea4",
   "metadata": {},
   "outputs": [
    {
     "name": "stdout",
     "output_type": "stream",
     "text": [
      "\n",
      "\n",
      "\u001b[1m> Entering new LLMChain chain...\u001b[0m\n",
      "Prompt after formatting:\n",
      "\u001b[32;1m\u001b[1;3mSystem: You are a nice chatbot having a conversation with a human.\n",
      "Human: Hello\n",
      "AI: Hello! It's nice to meet you. How are you doing today? Is there something on your mind that you'd like to talk about, or would you like to just chat and see where the conversation takes us?\n",
      "Human: My name is Shwa and I have moved 33 times.\u001b[0m\n",
      "\n",
      "\u001b[1m> Finished chain.\u001b[0m\n"
     ]
    },
    {
     "data": {
      "text/plain": [
       "{'question': 'My name is Shwa and I have moved 33 times.',\n",
       " 'chat_history': [HumanMessage(content='Hello', additional_kwargs={}, response_metadata={}),\n",
       "  AIMessage(content=\"Hello! It's nice to meet you. How are you doing today? Is there something on your mind that you'd like to talk about, or would you like to just chat and see where the conversation takes us?\", additional_kwargs={}, response_metadata={}),\n",
       "  HumanMessage(content='My name is Shwa and I have moved 33 times.', additional_kwargs={}, response_metadata={}),\n",
       "  AIMessage(content=\"Nice to meet you, Shwa! Wow, 33 times is a lot of moving! I can only imagine how many new places you've seen and experiences you've had. That must have been both exciting and challenging at the same time.\\n\\nWhat was the most memorable place you've lived, and what made it stand out to you? Was it the people, the culture, the food, or something else entirely?\", additional_kwargs={}, response_metadata={})],\n",
       " 'text': \"Nice to meet you, Shwa! Wow, 33 times is a lot of moving! I can only imagine how many new places you've seen and experiences you've had. That must have been both exciting and challenging at the same time.\\n\\nWhat was the most memorable place you've lived, and what made it stand out to you? Was it the people, the culture, the food, or something else entirely?\"}"
      ]
     },
     "execution_count": 8,
     "metadata": {},
     "output_type": "execute_result"
    }
   ],
   "source": [
    "conversation({\"question\": \"My name is Shwa and I have moved 33 times.\"})"
   ]
  },
  {
   "cell_type": "code",
   "execution_count": 9,
   "id": "3a9a8ba1",
   "metadata": {},
   "outputs": [
    {
     "name": "stdout",
     "output_type": "stream",
     "text": [
      "\n",
      "\n",
      "\u001b[1m> Entering new LLMChain chain...\u001b[0m\n",
      "Prompt after formatting:\n",
      "\u001b[32;1m\u001b[1;3mSystem: You are a nice chatbot having a conversation with a human.\n",
      "Human: Hello\n",
      "AI: Hello! It's nice to meet you. How are you doing today? Is there something on your mind that you'd like to talk about, or would you like to just chat and see where the conversation takes us?\n",
      "Human: My name is Shwa and I have moved 33 times.\n",
      "AI: Nice to meet you, Shwa! Wow, 33 times is a lot of moving! I can only imagine how many new places you've seen and experiences you've had. That must have been both exciting and challenging at the same time.\n",
      "\n",
      "What was the most memorable place you've lived, and what made it stand out to you? Was it the people, the culture, the food, or something else entirely?\n",
      "Human: If my average moving distance was 100 miles, how many miles took all my moves?\u001b[0m\n",
      "\n",
      "\u001b[1m> Finished chain.\u001b[0m\n"
     ]
    },
    {
     "data": {
      "text/plain": [
       "{'question': 'If my average moving distance was 100 miles, how many miles took all my moves?',\n",
       " 'chat_history': [HumanMessage(content='Hello', additional_kwargs={}, response_metadata={}),\n",
       "  AIMessage(content=\"Hello! It's nice to meet you. How are you doing today? Is there something on your mind that you'd like to talk about, or would you like to just chat and see where the conversation takes us?\", additional_kwargs={}, response_metadata={}),\n",
       "  HumanMessage(content='My name is Shwa and I have moved 33 times.', additional_kwargs={}, response_metadata={}),\n",
       "  AIMessage(content=\"Nice to meet you, Shwa! Wow, 33 times is a lot of moving! I can only imagine how many new places you've seen and experiences you've had. That must have been both exciting and challenging at the same time.\\n\\nWhat was the most memorable place you've lived, and what made it stand out to you? Was it the people, the culture, the food, or something else entirely?\", additional_kwargs={}, response_metadata={}),\n",
       "  HumanMessage(content='If my average moving distance was 100 miles, how many miles took all my moves?', additional_kwargs={}, response_metadata={}),\n",
       "  AIMessage(content=\"If you've moved 33 times, and your average moving distance was 100 miles, you can calculate the total distance by multiplying the number of moves by the average distance.\\n\\nSo, let's do the math:\\n\\n33 moves × 100 miles/move = 3300 miles\\n\\nThat's a total of 3300 miles! To put that into perspective, that's equivalent to driving from New York to Los Angeles and back again, and then some!\\n\\nI'm curious, Shwa, what prompted all these moves? Was it for work, family, or adventure?\", additional_kwargs={}, response_metadata={})],\n",
       " 'text': \"If you've moved 33 times, and your average moving distance was 100 miles, you can calculate the total distance by multiplying the number of moves by the average distance.\\n\\nSo, let's do the math:\\n\\n33 moves × 100 miles/move = 3300 miles\\n\\nThat's a total of 3300 miles! To put that into perspective, that's equivalent to driving from New York to Los Angeles and back again, and then some!\\n\\nI'm curious, Shwa, what prompted all these moves? Was it for work, family, or adventure?\"}"
      ]
     },
     "execution_count": 9,
     "metadata": {},
     "output_type": "execute_result"
    }
   ],
   "source": [
    "conversation({\"question\": \"If my average moving distance was 100 miles, how many miles took all my moves?\"})"
   ]
  },
  {
   "cell_type": "code",
   "execution_count": 10,
   "id": "6ca8ad96",
   "metadata": {},
   "outputs": [
    {
     "name": "stdout",
     "output_type": "stream",
     "text": [
      "\n",
      "\n",
      "\u001b[1m> Entering new LLMChain chain...\u001b[0m\n",
      "Prompt after formatting:\n",
      "\u001b[32;1m\u001b[1;3mSystem: You are a nice chatbot having a conversation with a human.\n",
      "Human: Hello\n",
      "AI: Hello! It's nice to meet you. How are you doing today? Is there something on your mind that you'd like to talk about, or would you like to just chat and see where the conversation takes us?\n",
      "Human: My name is Shwa and I have moved 33 times.\n",
      "AI: Nice to meet you, Shwa! Wow, 33 times is a lot of moving! I can only imagine how many new places you've seen and experiences you've had. That must have been both exciting and challenging at the same time.\n",
      "\n",
      "What was the most memorable place you've lived, and what made it stand out to you? Was it the people, the culture, the food, or something else entirely?\n",
      "Human: If my average moving distance was 100 miles, how many miles took all my moves?\n",
      "AI: If you've moved 33 times, and your average moving distance was 100 miles, you can calculate the total distance by multiplying the number of moves by the average distance.\n",
      "\n",
      "So, let's do the math:\n",
      "\n",
      "33 moves × 100 miles/move = 3300 miles\n",
      "\n",
      "That's a total of 3300 miles! To put that into perspective, that's equivalent to driving from New York to Los Angeles and back again, and then some!\n",
      "\n",
      "I'm curious, Shwa, what prompted all these moves? Was it for work, family, or adventure?\n",
      "Human: Do you remember my name?\u001b[0m\n",
      "\n",
      "\u001b[1m> Finished chain.\u001b[0m\n"
     ]
    },
    {
     "data": {
      "text/plain": [
       "{'question': 'Do you remember my name?',\n",
       " 'chat_history': [HumanMessage(content='Hello', additional_kwargs={}, response_metadata={}),\n",
       "  AIMessage(content=\"Hello! It's nice to meet you. How are you doing today? Is there something on your mind that you'd like to talk about, or would you like to just chat and see where the conversation takes us?\", additional_kwargs={}, response_metadata={}),\n",
       "  HumanMessage(content='My name is Shwa and I have moved 33 times.', additional_kwargs={}, response_metadata={}),\n",
       "  AIMessage(content=\"Nice to meet you, Shwa! Wow, 33 times is a lot of moving! I can only imagine how many new places you've seen and experiences you've had. That must have been both exciting and challenging at the same time.\\n\\nWhat was the most memorable place you've lived, and what made it stand out to you? Was it the people, the culture, the food, or something else entirely?\", additional_kwargs={}, response_metadata={}),\n",
       "  HumanMessage(content='If my average moving distance was 100 miles, how many miles took all my moves?', additional_kwargs={}, response_metadata={}),\n",
       "  AIMessage(content=\"If you've moved 33 times, and your average moving distance was 100 miles, you can calculate the total distance by multiplying the number of moves by the average distance.\\n\\nSo, let's do the math:\\n\\n33 moves × 100 miles/move = 3300 miles\\n\\nThat's a total of 3300 miles! To put that into perspective, that's equivalent to driving from New York to Los Angeles and back again, and then some!\\n\\nI'm curious, Shwa, what prompted all these moves? Was it for work, family, or adventure?\", additional_kwargs={}, response_metadata={}),\n",
       "  HumanMessage(content='Do you remember my name?', additional_kwargs={}, response_metadata={}),\n",
       "  AIMessage(content=\"I do remember your name, Shwa. You told me earlier that your name is Shwa, and you've had the exciting (and perhaps exhausting?) experience of moving 33 times. I'm glad we're chatting, and I'm here to listen and talk with you!\", additional_kwargs={}, response_metadata={})],\n",
       " 'text': \"I do remember your name, Shwa. You told me earlier that your name is Shwa, and you've had the exciting (and perhaps exhausting?) experience of moving 33 times. I'm glad we're chatting, and I'm here to listen and talk with you!\"}"
      ]
     },
     "execution_count": 10,
     "metadata": {},
     "output_type": "execute_result"
    }
   ],
   "source": [
    "conversation({\"question\": \"Do you remember my name?\"})"
   ]
  },
  {
   "cell_type": "code",
   "execution_count": 11,
   "id": "6fed1df9",
   "metadata": {},
   "outputs": [
    {
     "name": "stdout",
     "output_type": "stream",
     "text": [
      "[HumanMessage(content='Hello', additional_kwargs={}, response_metadata={}), AIMessage(content=\"Hello! It's nice to meet you. How are you doing today? Is there something on your mind that you'd like to talk about, or would you like to just chat and see where the conversation takes us?\", additional_kwargs={}, response_metadata={}), HumanMessage(content='My name is Shwa and I have moved 33 times.', additional_kwargs={}, response_metadata={}), AIMessage(content=\"Nice to meet you, Shwa! Wow, 33 times is a lot of moving! I can only imagine how many new places you've seen and experiences you've had. That must have been both exciting and challenging at the same time.\\n\\nWhat was the most memorable place you've lived, and what made it stand out to you? Was it the people, the culture, the food, or something else entirely?\", additional_kwargs={}, response_metadata={}), HumanMessage(content='If my average moving distance was 100 miles, how many miles took all my moves?', additional_kwargs={}, response_metadata={}), AIMessage(content=\"If you've moved 33 times, and your average moving distance was 100 miles, you can calculate the total distance by multiplying the number of moves by the average distance.\\n\\nSo, let's do the math:\\n\\n33 moves × 100 miles/move = 3300 miles\\n\\nThat's a total of 3300 miles! To put that into perspective, that's equivalent to driving from New York to Los Angeles and back again, and then some!\\n\\nI'm curious, Shwa, what prompted all these moves? Was it for work, family, or adventure?\", additional_kwargs={}, response_metadata={}), HumanMessage(content='Do you remember my name?', additional_kwargs={}, response_metadata={}), AIMessage(content=\"I do remember your name, Shwa. You told me earlier that your name is Shwa, and you've had the exciting (and perhaps exhausting?) experience of moving 33 times. I'm glad we're chatting, and I'm here to listen and talk with you!\", additional_kwargs={}, response_metadata={})]\n"
     ]
    }
   ],
   "source": [
    "print(memory.buffer)"
   ]
  },
  {
   "cell_type": "markdown",
   "id": "217bb138",
   "metadata": {},
   "source": [
    "#### Conversation Buffer Window Memory\n",
    "- Similar to the previous one, but you can limit the number of conversational exchanges stored in memory. For example, you can set it so it only remembers the last 3 questions and answers of the conversation."
   ]
  },
  {
   "cell_type": "code",
   "execution_count": 12,
   "id": "60811996",
   "metadata": {},
   "outputs": [],
   "source": [
    "from langchain.memory import ConversationBufferWindowMemory\n",
    "from langchain.chains import ConversationChain"
   ]
  },
  {
   "cell_type": "code",
   "execution_count": 13,
   "id": "b29ca240",
   "metadata": {},
   "outputs": [
    {
     "name": "stderr",
     "output_type": "stream",
     "text": [
      "C:\\Users\\hp\\AppData\\Local\\Temp\\ipykernel_19248\\3645135692.py:1: LangChainDeprecationWarning: Please see the migration guide at: https://python.langchain.com/docs/versions/migrating_memory/\n",
      "  window_memory = ConversationBufferWindowMemory(k=3)\n"
     ]
    }
   ],
   "source": [
    "window_memory = ConversationBufferWindowMemory(k=3)"
   ]
  },
  {
   "cell_type": "code",
   "execution_count": 14,
   "id": "321dd54a",
   "metadata": {},
   "outputs": [
    {
     "name": "stderr",
     "output_type": "stream",
     "text": [
      "C:\\Users\\hp\\AppData\\Local\\Temp\\ipykernel_19248\\2223828249.py:1: LangChainDeprecationWarning: The class `ConversationChain` was deprecated in LangChain 0.2.7 and will be removed in 1.0. Use :class:`~langchain_core.runnables.history.RunnableWithMessageHistory` instead.\n",
      "  conversation_window = ConversationChain(\n"
     ]
    }
   ],
   "source": [
    "conversation_window = ConversationChain(\n",
    "    llm=llm,\n",
    "    memory=window_memory,\n",
    "    verbose=True\n",
    ")"
   ]
  },
  {
   "cell_type": "code",
   "execution_count": 15,
   "id": "68d195e8",
   "metadata": {},
   "outputs": [
    {
     "name": "stdout",
     "output_type": "stream",
     "text": [
      "\n",
      "\n",
      "\u001b[1m> Entering new ConversationChain chain...\u001b[0m\n",
      "Prompt after formatting:\n",
      "\u001b[32;1m\u001b[1;3mThe following is a friendly conversation between a human and an AI. The AI is talkative and provides lots of specific details from its context. If the AI does not know the answer to a question, it truthfully says it does not know.\n",
      "\n",
      "Current conversation:\n",
      "\n",
      "Human: Hi, my name is Mohamed\n",
      "AI:\u001b[0m\n",
      "\n",
      "\u001b[1m> Finished chain.\u001b[0m\n"
     ]
    },
    {
     "data": {
      "text/plain": [
       "{'input': 'Hi, my name is Mohamed',\n",
       " 'history': '',\n",
       " 'response': \"Hello Mohamed, nice to meet you. I'm an AI designed to assist and communicate with humans in a helpful and informative way. I have been trained on a vast amount of text data, which allows me to provide detailed answers to a wide range of questions. I can tell you about everything from the history of ancient civilizations, such as Egypt, which is a country located in northeastern Africa, to the latest advancements in fields like artificial intelligence, space exploration, and medicine. I can also engage in casual conversations, share interesting facts, and even generate creative content like stories or poems. What would you like to talk about, Mohamed?\"}"
      ]
     },
     "execution_count": 15,
     "metadata": {},
     "output_type": "execute_result"
    }
   ],
   "source": [
    "conversation_window({\"input\": \"Hi, my name is Mohamed\"})"
   ]
  },
  {
   "cell_type": "code",
   "execution_count": 16,
   "id": "b5d10ebd",
   "metadata": {},
   "outputs": [
    {
     "name": "stdout",
     "output_type": "stream",
     "text": [
      "\n",
      "\n",
      "\u001b[1m> Entering new ConversationChain chain...\u001b[0m\n",
      "Prompt after formatting:\n",
      "\u001b[32;1m\u001b[1;3mThe following is a friendly conversation between a human and an AI. The AI is talkative and provides lots of specific details from its context. If the AI does not know the answer to a question, it truthfully says it does not know.\n",
      "\n",
      "Current conversation:\n",
      "Human: Hi, my name is Mohamed\n",
      "AI: Hello Mohamed, nice to meet you. I'm an AI designed to assist and communicate with humans in a helpful and informative way. I have been trained on a vast amount of text data, which allows me to provide detailed answers to a wide range of questions. I can tell you about everything from the history of ancient civilizations, such as Egypt, which is a country located in northeastern Africa, to the latest advancements in fields like artificial intelligence, space exploration, and medicine. I can also engage in casual conversations, share interesting facts, and even generate creative content like stories or poems. What would you like to talk about, Mohamed?\n",
      "Human: My favorite color is orange\n",
      "AI:\u001b[0m\n",
      "\n",
      "\u001b[1m> Finished chain.\u001b[0m\n"
     ]
    },
    {
     "data": {
      "text/plain": [
       "{'input': 'My favorite color is orange',\n",
       " 'history': \"Human: Hi, my name is Mohamed\\nAI: Hello Mohamed, nice to meet you. I'm an AI designed to assist and communicate with humans in a helpful and informative way. I have been trained on a vast amount of text data, which allows me to provide detailed answers to a wide range of questions. I can tell you about everything from the history of ancient civilizations, such as Egypt, which is a country located in northeastern Africa, to the latest advancements in fields like artificial intelligence, space exploration, and medicine. I can also engage in casual conversations, share interesting facts, and even generate creative content like stories or poems. What would you like to talk about, Mohamed?\",\n",
       " 'response': 'Orange is a vibrant and energetic color. It\\'s a mixture of red and yellow, and it\\'s often associated with warmth, excitement, and playfulness. Did you know that the color orange has a unique history? It was first introduced as a color term in the English language in the 16th century, and it was derived from the Old English word \"norange,\" which referred to the citrus fruit. Today, orange is a popular color in design, fashion, and art, and it\\'s often used to draw attention and convey a sense of enthusiasm. In nature, orange is also a prominent color, appearing in sunsets, flowers, and the plumage of certain birds, like the oriole or the monarch butterfly. What is it about the color orange that you like the most, Mohamed? Is it the way it looks, the emotions it evokes, or something else entirely?'}"
      ]
     },
     "execution_count": 16,
     "metadata": {},
     "output_type": "execute_result"
    }
   ],
   "source": [
    "conversation_window({\"input\": \"My favorite color is orange\"})"
   ]
  },
  {
   "cell_type": "code",
   "execution_count": 17,
   "id": "98200618",
   "metadata": {},
   "outputs": [
    {
     "name": "stdout",
     "output_type": "stream",
     "text": [
      "\n",
      "\n",
      "\u001b[1m> Entering new ConversationChain chain...\u001b[0m\n",
      "Prompt after formatting:\n",
      "\u001b[32;1m\u001b[1;3mThe following is a friendly conversation between a human and an AI. The AI is talkative and provides lots of specific details from its context. If the AI does not know the answer to a question, it truthfully says it does not know.\n",
      "\n",
      "Current conversation:\n",
      "Human: Hi, my name is Mohamed\n",
      "AI: Hello Mohamed, nice to meet you. I'm an AI designed to assist and communicate with humans in a helpful and informative way. I have been trained on a vast amount of text data, which allows me to provide detailed answers to a wide range of questions. I can tell you about everything from the history of ancient civilizations, such as Egypt, which is a country located in northeastern Africa, to the latest advancements in fields like artificial intelligence, space exploration, and medicine. I can also engage in casual conversations, share interesting facts, and even generate creative content like stories or poems. What would you like to talk about, Mohamed?\n",
      "Human: My favorite color is orange\n",
      "AI: Orange is a vibrant and energetic color. It's a mixture of red and yellow, and it's often associated with warmth, excitement, and playfulness. Did you know that the color orange has a unique history? It was first introduced as a color term in the English language in the 16th century, and it was derived from the Old English word \"norange,\" which referred to the citrus fruit. Today, orange is a popular color in design, fashion, and art, and it's often used to draw attention and convey a sense of enthusiasm. In nature, orange is also a prominent color, appearing in sunsets, flowers, and the plumage of certain birds, like the oriole or the monarch butterfly. What is it about the color orange that you like the most, Mohamed? Is it the way it looks, the emotions it evokes, or something else entirely?\n",
      "Human: My favorite animals are horses\n",
      "AI:\u001b[0m\n",
      "\n",
      "\u001b[1m> Finished chain.\u001b[0m\n"
     ]
    },
    {
     "data": {
      "text/plain": [
       "{'input': 'My favorite animals are horses',\n",
       " 'history': 'Human: Hi, my name is Mohamed\\nAI: Hello Mohamed, nice to meet you. I\\'m an AI designed to assist and communicate with humans in a helpful and informative way. I have been trained on a vast amount of text data, which allows me to provide detailed answers to a wide range of questions. I can tell you about everything from the history of ancient civilizations, such as Egypt, which is a country located in northeastern Africa, to the latest advancements in fields like artificial intelligence, space exploration, and medicine. I can also engage in casual conversations, share interesting facts, and even generate creative content like stories or poems. What would you like to talk about, Mohamed?\\nHuman: My favorite color is orange\\nAI: Orange is a vibrant and energetic color. It\\'s a mixture of red and yellow, and it\\'s often associated with warmth, excitement, and playfulness. Did you know that the color orange has a unique history? It was first introduced as a color term in the English language in the 16th century, and it was derived from the Old English word \"norange,\" which referred to the citrus fruit. Today, orange is a popular color in design, fashion, and art, and it\\'s often used to draw attention and convey a sense of enthusiasm. In nature, orange is also a prominent color, appearing in sunsets, flowers, and the plumage of certain birds, like the oriole or the monarch butterfly. What is it about the color orange that you like the most, Mohamed? Is it the way it looks, the emotions it evokes, or something else entirely?',\n",
       " 'response': \"Horses are magnificent creatures. They're known for their strength, agility, and intelligence, and have been an integral part of human history and culture for thousands of years. Did you know that horses were first domesticated around 4,000-3,500 BCE in the Eurasian Steppes, and since then, they've been used for transportation, agriculture, warfare, and companionship? There are over 300 breeds of horses worldwide, ranging from the tiny Shetland pony to the massive Shire horse, and each breed has its unique characteristics, such as the Arabian horse's distinctive head shape and high tail carriage, or the Quarter Horse's muscular build and sprinting ability.\\n\\nHorses are also incredibly social animals, living in hierarchical groups with complex communication systems that include body language, vocalizations, and even scent marking. They're able to form strong bonds with each other and with humans, which is why they're often used in therapeutic riding programs and as service animals. In addition, horses have been a source of inspiration for art, literature, and music throughout history, from the majestic horse sculptures of ancient Greece to the horse-themed poetry of authors like Walt Whitman and Mary Oliver.\\n\\nWhat is it about horses that you find most fascinating, Mohamed? Is it their beauty, their intelligence, or their ability to form close relationships with humans? Have you ever had the opportunity to ride a horse or interact with them in person?\"}"
      ]
     },
     "execution_count": 17,
     "metadata": {},
     "output_type": "execute_result"
    }
   ],
   "source": [
    "conversation_window({\"input\": \"My favorite animals are horses\"})"
   ]
  },
  {
   "cell_type": "code",
   "execution_count": 18,
   "id": "c6c02c4c",
   "metadata": {},
   "outputs": [
    {
     "name": "stdout",
     "output_type": "stream",
     "text": [
      "\n",
      "\n",
      "\u001b[1m> Entering new ConversationChain chain...\u001b[0m\n",
      "Prompt after formatting:\n",
      "\u001b[32;1m\u001b[1;3mThe following is a friendly conversation between a human and an AI. The AI is talkative and provides lots of specific details from its context. If the AI does not know the answer to a question, it truthfully says it does not know.\n",
      "\n",
      "Current conversation:\n",
      "Human: Hi, my name is Mohamed\n",
      "AI: Hello Mohamed, nice to meet you. I'm an AI designed to assist and communicate with humans in a helpful and informative way. I have been trained on a vast amount of text data, which allows me to provide detailed answers to a wide range of questions. I can tell you about everything from the history of ancient civilizations, such as Egypt, which is a country located in northeastern Africa, to the latest advancements in fields like artificial intelligence, space exploration, and medicine. I can also engage in casual conversations, share interesting facts, and even generate creative content like stories or poems. What would you like to talk about, Mohamed?\n",
      "Human: My favorite color is orange\n",
      "AI: Orange is a vibrant and energetic color. It's a mixture of red and yellow, and it's often associated with warmth, excitement, and playfulness. Did you know that the color orange has a unique history? It was first introduced as a color term in the English language in the 16th century, and it was derived from the Old English word \"norange,\" which referred to the citrus fruit. Today, orange is a popular color in design, fashion, and art, and it's often used to draw attention and convey a sense of enthusiasm. In nature, orange is also a prominent color, appearing in sunsets, flowers, and the plumage of certain birds, like the oriole or the monarch butterfly. What is it about the color orange that you like the most, Mohamed? Is it the way it looks, the emotions it evokes, or something else entirely?\n",
      "Human: My favorite animals are horses\n",
      "AI: Horses are magnificent creatures. They're known for their strength, agility, and intelligence, and have been an integral part of human history and culture for thousands of years. Did you know that horses were first domesticated around 4,000-3,500 BCE in the Eurasian Steppes, and since then, they've been used for transportation, agriculture, warfare, and companionship? There are over 300 breeds of horses worldwide, ranging from the tiny Shetland pony to the massive Shire horse, and each breed has its unique characteristics, such as the Arabian horse's distinctive head shape and high tail carriage, or the Quarter Horse's muscular build and sprinting ability.\n",
      "\n",
      "Horses are also incredibly social animals, living in hierarchical groups with complex communication systems that include body language, vocalizations, and even scent marking. They're able to form strong bonds with each other and with humans, which is why they're often used in therapeutic riding programs and as service animals. In addition, horses have been a source of inspiration for art, literature, and music throughout history, from the majestic horse sculptures of ancient Greece to the horse-themed poetry of authors like Walt Whitman and Mary Oliver.\n",
      "\n",
      "What is it about horses that you find most fascinating, Mohamed? Is it their beauty, their intelligence, or their ability to form close relationships with humans? Have you ever had the opportunity to ride a horse or interact with them in person?\n",
      "Human: I like to drive a vespa scooter in the city\n",
      "AI:\u001b[0m\n",
      "\n",
      "\u001b[1m> Finished chain.\u001b[0m\n"
     ]
    },
    {
     "data": {
      "text/plain": [
       "{'input': 'I like to drive a vespa scooter in the city',\n",
       " 'history': 'Human: Hi, my name is Mohamed\\nAI: Hello Mohamed, nice to meet you. I\\'m an AI designed to assist and communicate with humans in a helpful and informative way. I have been trained on a vast amount of text data, which allows me to provide detailed answers to a wide range of questions. I can tell you about everything from the history of ancient civilizations, such as Egypt, which is a country located in northeastern Africa, to the latest advancements in fields like artificial intelligence, space exploration, and medicine. I can also engage in casual conversations, share interesting facts, and even generate creative content like stories or poems. What would you like to talk about, Mohamed?\\nHuman: My favorite color is orange\\nAI: Orange is a vibrant and energetic color. It\\'s a mixture of red and yellow, and it\\'s often associated with warmth, excitement, and playfulness. Did you know that the color orange has a unique history? It was first introduced as a color term in the English language in the 16th century, and it was derived from the Old English word \"norange,\" which referred to the citrus fruit. Today, orange is a popular color in design, fashion, and art, and it\\'s often used to draw attention and convey a sense of enthusiasm. In nature, orange is also a prominent color, appearing in sunsets, flowers, and the plumage of certain birds, like the oriole or the monarch butterfly. What is it about the color orange that you like the most, Mohamed? Is it the way it looks, the emotions it evokes, or something else entirely?\\nHuman: My favorite animals are horses\\nAI: Horses are magnificent creatures. They\\'re known for their strength, agility, and intelligence, and have been an integral part of human history and culture for thousands of years. Did you know that horses were first domesticated around 4,000-3,500 BCE in the Eurasian Steppes, and since then, they\\'ve been used for transportation, agriculture, warfare, and companionship? There are over 300 breeds of horses worldwide, ranging from the tiny Shetland pony to the massive Shire horse, and each breed has its unique characteristics, such as the Arabian horse\\'s distinctive head shape and high tail carriage, or the Quarter Horse\\'s muscular build and sprinting ability.\\n\\nHorses are also incredibly social animals, living in hierarchical groups with complex communication systems that include body language, vocalizations, and even scent marking. They\\'re able to form strong bonds with each other and with humans, which is why they\\'re often used in therapeutic riding programs and as service animals. In addition, horses have been a source of inspiration for art, literature, and music throughout history, from the majestic horse sculptures of ancient Greece to the horse-themed poetry of authors like Walt Whitman and Mary Oliver.\\n\\nWhat is it about horses that you find most fascinating, Mohamed? Is it their beauty, their intelligence, or their ability to form close relationships with humans? Have you ever had the opportunity to ride a horse or interact with them in person?',\n",
       " 'response': 'Vespa scooters are a classic mode of transportation, especially in urban areas. They\\'re known for their sleek design, agile handling, and fuel efficiency, making them a popular choice for navigating through busy city streets. Did you know that the first Vespa scooter was designed by Corradino D\\'Ascanio, an Italian engineer, in 1946? The name \"Vespa\" is Italian for \"wasp,\" which was chosen because the scooter\\'s shape and sound were reminiscent of the insect.\\n\\nVespa scooters have a rich history, and they\\'ve become an iconic symbol of Italian style and culture. Over the years, they\\'ve been featured in numerous films, music videos, and advertisements, often associated with a carefree, adventurous lifestyle. In addition to their aesthetic appeal, Vespa scooters are also highly functional, with a range of models available to suit different riding styles and preferences.\\n\\nAs a Vespa scooter enthusiast, you must enjoy the feeling of freedom and exhilaration that comes with riding through the city. Do you have a favorite route or destination that you like to ride to, Mohamed? Perhaps a scenic spot, a favorite café, or a vibrant neighborhood? Have you ever considered customizing your Vespa scooter or attending Vespa-themed events and rallies?\\n\\nBy the way, I can tell you that some cities are more scooter-friendly than others, with dedicated bike lanes, parking facilities, and traffic regulations that cater to two-wheeled vehicles. Are you aware of any initiatives or programs in your city that promote scooter safety and accessibility? I\\'d be happy to provide more information or discuss ways to make urban mobility more efficient and enjoyable.'}"
      ]
     },
     "execution_count": 18,
     "metadata": {},
     "output_type": "execute_result"
    }
   ],
   "source": [
    "conversation_window({\"input\": \"I like to drive a vespa scooter in the city\"})"
   ]
  },
  {
   "cell_type": "code",
   "execution_count": 19,
   "id": "4db6fb71",
   "metadata": {},
   "outputs": [
    {
     "name": "stdout",
     "output_type": "stream",
     "text": [
      "\n",
      "\n",
      "\u001b[1m> Entering new ConversationChain chain...\u001b[0m\n",
      "Prompt after formatting:\n",
      "\u001b[32;1m\u001b[1;3mThe following is a friendly conversation between a human and an AI. The AI is talkative and provides lots of specific details from its context. If the AI does not know the answer to a question, it truthfully says it does not know.\n",
      "\n",
      "Current conversation:\n",
      "Human: My favorite color is orange\n",
      "AI: Orange is a vibrant and energetic color. It's a mixture of red and yellow, and it's often associated with warmth, excitement, and playfulness. Did you know that the color orange has a unique history? It was first introduced as a color term in the English language in the 16th century, and it was derived from the Old English word \"norange,\" which referred to the citrus fruit. Today, orange is a popular color in design, fashion, and art, and it's often used to draw attention and convey a sense of enthusiasm. In nature, orange is also a prominent color, appearing in sunsets, flowers, and the plumage of certain birds, like the oriole or the monarch butterfly. What is it about the color orange that you like the most, Mohamed? Is it the way it looks, the emotions it evokes, or something else entirely?\n",
      "Human: My favorite animals are horses\n",
      "AI: Horses are magnificent creatures. They're known for their strength, agility, and intelligence, and have been an integral part of human history and culture for thousands of years. Did you know that horses were first domesticated around 4,000-3,500 BCE in the Eurasian Steppes, and since then, they've been used for transportation, agriculture, warfare, and companionship? There are over 300 breeds of horses worldwide, ranging from the tiny Shetland pony to the massive Shire horse, and each breed has its unique characteristics, such as the Arabian horse's distinctive head shape and high tail carriage, or the Quarter Horse's muscular build and sprinting ability.\n",
      "\n",
      "Horses are also incredibly social animals, living in hierarchical groups with complex communication systems that include body language, vocalizations, and even scent marking. They're able to form strong bonds with each other and with humans, which is why they're often used in therapeutic riding programs and as service animals. In addition, horses have been a source of inspiration for art, literature, and music throughout history, from the majestic horse sculptures of ancient Greece to the horse-themed poetry of authors like Walt Whitman and Mary Oliver.\n",
      "\n",
      "What is it about horses that you find most fascinating, Mohamed? Is it their beauty, their intelligence, or their ability to form close relationships with humans? Have you ever had the opportunity to ride a horse or interact with them in person?\n",
      "Human: I like to drive a vespa scooter in the city\n",
      "AI: Vespa scooters are a classic mode of transportation, especially in urban areas. They're known for their sleek design, agile handling, and fuel efficiency, making them a popular choice for navigating through busy city streets. Did you know that the first Vespa scooter was designed by Corradino D'Ascanio, an Italian engineer, in 1946? The name \"Vespa\" is Italian for \"wasp,\" which was chosen because the scooter's shape and sound were reminiscent of the insect.\n",
      "\n",
      "Vespa scooters have a rich history, and they've become an iconic symbol of Italian style and culture. Over the years, they've been featured in numerous films, music videos, and advertisements, often associated with a carefree, adventurous lifestyle. In addition to their aesthetic appeal, Vespa scooters are also highly functional, with a range of models available to suit different riding styles and preferences.\n",
      "\n",
      "As a Vespa scooter enthusiast, you must enjoy the feeling of freedom and exhilaration that comes with riding through the city. Do you have a favorite route or destination that you like to ride to, Mohamed? Perhaps a scenic spot, a favorite café, or a vibrant neighborhood? Have you ever considered customizing your Vespa scooter or attending Vespa-themed events and rallies?\n",
      "\n",
      "By the way, I can tell you that some cities are more scooter-friendly than others, with dedicated bike lanes, parking facilities, and traffic regulations that cater to two-wheeled vehicles. Are you aware of any initiatives or programs in your city that promote scooter safety and accessibility? I'd be happy to provide more information or discuss ways to make urban mobility more efficient and enjoyable.\n",
      "Human: My favorite city is San Francisco\n",
      "AI:\u001b[0m\n",
      "\n",
      "\u001b[1m> Finished chain.\u001b[0m\n"
     ]
    },
    {
     "data": {
      "text/plain": [
       "{'input': 'My favorite city is San Francisco',\n",
       " 'history': 'Human: My favorite color is orange\\nAI: Orange is a vibrant and energetic color. It\\'s a mixture of red and yellow, and it\\'s often associated with warmth, excitement, and playfulness. Did you know that the color orange has a unique history? It was first introduced as a color term in the English language in the 16th century, and it was derived from the Old English word \"norange,\" which referred to the citrus fruit. Today, orange is a popular color in design, fashion, and art, and it\\'s often used to draw attention and convey a sense of enthusiasm. In nature, orange is also a prominent color, appearing in sunsets, flowers, and the plumage of certain birds, like the oriole or the monarch butterfly. What is it about the color orange that you like the most, Mohamed? Is it the way it looks, the emotions it evokes, or something else entirely?\\nHuman: My favorite animals are horses\\nAI: Horses are magnificent creatures. They\\'re known for their strength, agility, and intelligence, and have been an integral part of human history and culture for thousands of years. Did you know that horses were first domesticated around 4,000-3,500 BCE in the Eurasian Steppes, and since then, they\\'ve been used for transportation, agriculture, warfare, and companionship? There are over 300 breeds of horses worldwide, ranging from the tiny Shetland pony to the massive Shire horse, and each breed has its unique characteristics, such as the Arabian horse\\'s distinctive head shape and high tail carriage, or the Quarter Horse\\'s muscular build and sprinting ability.\\n\\nHorses are also incredibly social animals, living in hierarchical groups with complex communication systems that include body language, vocalizations, and even scent marking. They\\'re able to form strong bonds with each other and with humans, which is why they\\'re often used in therapeutic riding programs and as service animals. In addition, horses have been a source of inspiration for art, literature, and music throughout history, from the majestic horse sculptures of ancient Greece to the horse-themed poetry of authors like Walt Whitman and Mary Oliver.\\n\\nWhat is it about horses that you find most fascinating, Mohamed? Is it their beauty, their intelligence, or their ability to form close relationships with humans? Have you ever had the opportunity to ride a horse or interact with them in person?\\nHuman: I like to drive a vespa scooter in the city\\nAI: Vespa scooters are a classic mode of transportation, especially in urban areas. They\\'re known for their sleek design, agile handling, and fuel efficiency, making them a popular choice for navigating through busy city streets. Did you know that the first Vespa scooter was designed by Corradino D\\'Ascanio, an Italian engineer, in 1946? The name \"Vespa\" is Italian for \"wasp,\" which was chosen because the scooter\\'s shape and sound were reminiscent of the insect.\\n\\nVespa scooters have a rich history, and they\\'ve become an iconic symbol of Italian style and culture. Over the years, they\\'ve been featured in numerous films, music videos, and advertisements, often associated with a carefree, adventurous lifestyle. In addition to their aesthetic appeal, Vespa scooters are also highly functional, with a range of models available to suit different riding styles and preferences.\\n\\nAs a Vespa scooter enthusiast, you must enjoy the feeling of freedom and exhilaration that comes with riding through the city. Do you have a favorite route or destination that you like to ride to, Mohamed? Perhaps a scenic spot, a favorite café, or a vibrant neighborhood? Have you ever considered customizing your Vespa scooter or attending Vespa-themed events and rallies?\\n\\nBy the way, I can tell you that some cities are more scooter-friendly than others, with dedicated bike lanes, parking facilities, and traffic regulations that cater to two-wheeled vehicles. Are you aware of any initiatives or programs in your city that promote scooter safety and accessibility? I\\'d be happy to provide more information or discuss ways to make urban mobility more efficient and enjoyable.',\n",
       " 'response': \"San Francisco is a fascinating city, known for its vibrant cultural scene, stunning natural beauty, and iconic landmarks. Did you know that San Francisco is situated on the San Andreas Fault, and its unique geology has shaped the city's landscape and architecture? The city's famous hills, such as Nob Hill, Russian Hill, and Telegraph Hill, were formed by the movement of the Pacific and North American tectonic plates.\\n\\nSan Francisco is also a city of incredible diversity, with a rich history of immigration and cultural exchange. The city's Chinatown, for example, is one of the largest and oldest in the United States, and it's a popular destination for food, shopping, and cultural events. The city's Mission District is known for its vibrant street art, Latin American cuisine, and lively music scene.\\n\\nAs a fan of Vespa scooters, you might enjoy exploring San Francisco's scenic neighborhoods and coastline on two wheels. The city has a number of bike-friendly routes and lanes, including the popular Embarcadero and the scenic Great Highway, which runs along the Pacific Coast. You could ride across the Golden Gate Bridge, visit the picturesque town of Sausalito, or explore the city's many parks and green spaces, such as Golden Gate Park or the Presidio.\\n\\nSan Francisco is also a hub for technology and innovation, with many major tech companies, including Twitter, Airbnb, and Uber, headquartered in the city. The city's South of Market (SoMa) neighborhood is home to a number of museums, galleries, and performance venues, including the San Francisco Museum of Modern Art (SFMOMA) and the Yerba Buena Center for the Arts.\\n\\nWhat is it about San Francisco that you love the most, Mohamed? Is it the city's iconic landmarks, such as the Golden Gate Bridge or Alcatraz Island? Or is it the city's diverse neighborhoods, cultural events, and culinary scene? Have you ever attended any of the city's famous festivals, such as the San Francisco Pride parade or the Outside Lands music festival?\"}"
      ]
     },
     "execution_count": 19,
     "metadata": {},
     "output_type": "execute_result"
    }
   ],
   "source": [
    "conversation_window({\"input\": \"My favorite city is San Francisco\"})"
   ]
  },
  {
   "cell_type": "markdown",
   "id": "824326e8",
   "metadata": {},
   "source": [
    "It Does Not Know -> Why :: As It Saves Only The Last 3 Messages ??"
   ]
  },
  {
   "cell_type": "code",
   "execution_count": 20,
   "id": "5355efc6",
   "metadata": {},
   "outputs": [
    {
     "name": "stdout",
     "output_type": "stream",
     "text": [
      "\n",
      "\n",
      "\u001b[1m> Entering new ConversationChain chain...\u001b[0m\n",
      "Prompt after formatting:\n",
      "\u001b[32;1m\u001b[1;3mThe following is a friendly conversation between a human and an AI. The AI is talkative and provides lots of specific details from its context. If the AI does not know the answer to a question, it truthfully says it does not know.\n",
      "\n",
      "Current conversation:\n",
      "Human: My favorite animals are horses\n",
      "AI: Horses are magnificent creatures. They're known for their strength, agility, and intelligence, and have been an integral part of human history and culture for thousands of years. Did you know that horses were first domesticated around 4,000-3,500 BCE in the Eurasian Steppes, and since then, they've been used for transportation, agriculture, warfare, and companionship? There are over 300 breeds of horses worldwide, ranging from the tiny Shetland pony to the massive Shire horse, and each breed has its unique characteristics, such as the Arabian horse's distinctive head shape and high tail carriage, or the Quarter Horse's muscular build and sprinting ability.\n",
      "\n",
      "Horses are also incredibly social animals, living in hierarchical groups with complex communication systems that include body language, vocalizations, and even scent marking. They're able to form strong bonds with each other and with humans, which is why they're often used in therapeutic riding programs and as service animals. In addition, horses have been a source of inspiration for art, literature, and music throughout history, from the majestic horse sculptures of ancient Greece to the horse-themed poetry of authors like Walt Whitman and Mary Oliver.\n",
      "\n",
      "What is it about horses that you find most fascinating, Mohamed? Is it their beauty, their intelligence, or their ability to form close relationships with humans? Have you ever had the opportunity to ride a horse or interact with them in person?\n",
      "Human: I like to drive a vespa scooter in the city\n",
      "AI: Vespa scooters are a classic mode of transportation, especially in urban areas. They're known for their sleek design, agile handling, and fuel efficiency, making them a popular choice for navigating through busy city streets. Did you know that the first Vespa scooter was designed by Corradino D'Ascanio, an Italian engineer, in 1946? The name \"Vespa\" is Italian for \"wasp,\" which was chosen because the scooter's shape and sound were reminiscent of the insect.\n",
      "\n",
      "Vespa scooters have a rich history, and they've become an iconic symbol of Italian style and culture. Over the years, they've been featured in numerous films, music videos, and advertisements, often associated with a carefree, adventurous lifestyle. In addition to their aesthetic appeal, Vespa scooters are also highly functional, with a range of models available to suit different riding styles and preferences.\n",
      "\n",
      "As a Vespa scooter enthusiast, you must enjoy the feeling of freedom and exhilaration that comes with riding through the city. Do you have a favorite route or destination that you like to ride to, Mohamed? Perhaps a scenic spot, a favorite café, or a vibrant neighborhood? Have you ever considered customizing your Vespa scooter or attending Vespa-themed events and rallies?\n",
      "\n",
      "By the way, I can tell you that some cities are more scooter-friendly than others, with dedicated bike lanes, parking facilities, and traffic regulations that cater to two-wheeled vehicles. Are you aware of any initiatives or programs in your city that promote scooter safety and accessibility? I'd be happy to provide more information or discuss ways to make urban mobility more efficient and enjoyable.\n",
      "Human: My favorite city is San Francisco\n",
      "AI: San Francisco is a fascinating city, known for its vibrant cultural scene, stunning natural beauty, and iconic landmarks. Did you know that San Francisco is situated on the San Andreas Fault, and its unique geology has shaped the city's landscape and architecture? The city's famous hills, such as Nob Hill, Russian Hill, and Telegraph Hill, were formed by the movement of the Pacific and North American tectonic plates.\n",
      "\n",
      "San Francisco is also a city of incredible diversity, with a rich history of immigration and cultural exchange. The city's Chinatown, for example, is one of the largest and oldest in the United States, and it's a popular destination for food, shopping, and cultural events. The city's Mission District is known for its vibrant street art, Latin American cuisine, and lively music scene.\n",
      "\n",
      "As a fan of Vespa scooters, you might enjoy exploring San Francisco's scenic neighborhoods and coastline on two wheels. The city has a number of bike-friendly routes and lanes, including the popular Embarcadero and the scenic Great Highway, which runs along the Pacific Coast. You could ride across the Golden Gate Bridge, visit the picturesque town of Sausalito, or explore the city's many parks and green spaces, such as Golden Gate Park or the Presidio.\n",
      "\n",
      "San Francisco is also a hub for technology and innovation, with many major tech companies, including Twitter, Airbnb, and Uber, headquartered in the city. The city's South of Market (SoMa) neighborhood is home to a number of museums, galleries, and performance venues, including the San Francisco Museum of Modern Art (SFMOMA) and the Yerba Buena Center for the Arts.\n",
      "\n",
      "What is it about San Francisco that you love the most, Mohamed? Is it the city's iconic landmarks, such as the Golden Gate Bridge or Alcatraz Island? Or is it the city's diverse neighborhoods, cultural events, and culinary scene? Have you ever attended any of the city's famous festivals, such as the San Francisco Pride parade or the Outside Lands music festival?\n",
      "Human: What is my favorite color?\n",
      "AI:\u001b[0m\n",
      "\n",
      "\u001b[1m> Finished chain.\u001b[0m\n"
     ]
    },
    {
     "data": {
      "text/plain": [
       "{'input': 'What is my favorite color?',\n",
       " 'history': 'Human: My favorite animals are horses\\nAI: Horses are magnificent creatures. They\\'re known for their strength, agility, and intelligence, and have been an integral part of human history and culture for thousands of years. Did you know that horses were first domesticated around 4,000-3,500 BCE in the Eurasian Steppes, and since then, they\\'ve been used for transportation, agriculture, warfare, and companionship? There are over 300 breeds of horses worldwide, ranging from the tiny Shetland pony to the massive Shire horse, and each breed has its unique characteristics, such as the Arabian horse\\'s distinctive head shape and high tail carriage, or the Quarter Horse\\'s muscular build and sprinting ability.\\n\\nHorses are also incredibly social animals, living in hierarchical groups with complex communication systems that include body language, vocalizations, and even scent marking. They\\'re able to form strong bonds with each other and with humans, which is why they\\'re often used in therapeutic riding programs and as service animals. In addition, horses have been a source of inspiration for art, literature, and music throughout history, from the majestic horse sculptures of ancient Greece to the horse-themed poetry of authors like Walt Whitman and Mary Oliver.\\n\\nWhat is it about horses that you find most fascinating, Mohamed? Is it their beauty, their intelligence, or their ability to form close relationships with humans? Have you ever had the opportunity to ride a horse or interact with them in person?\\nHuman: I like to drive a vespa scooter in the city\\nAI: Vespa scooters are a classic mode of transportation, especially in urban areas. They\\'re known for their sleek design, agile handling, and fuel efficiency, making them a popular choice for navigating through busy city streets. Did you know that the first Vespa scooter was designed by Corradino D\\'Ascanio, an Italian engineer, in 1946? The name \"Vespa\" is Italian for \"wasp,\" which was chosen because the scooter\\'s shape and sound were reminiscent of the insect.\\n\\nVespa scooters have a rich history, and they\\'ve become an iconic symbol of Italian style and culture. Over the years, they\\'ve been featured in numerous films, music videos, and advertisements, often associated with a carefree, adventurous lifestyle. In addition to their aesthetic appeal, Vespa scooters are also highly functional, with a range of models available to suit different riding styles and preferences.\\n\\nAs a Vespa scooter enthusiast, you must enjoy the feeling of freedom and exhilaration that comes with riding through the city. Do you have a favorite route or destination that you like to ride to, Mohamed? Perhaps a scenic spot, a favorite café, or a vibrant neighborhood? Have you ever considered customizing your Vespa scooter or attending Vespa-themed events and rallies?\\n\\nBy the way, I can tell you that some cities are more scooter-friendly than others, with dedicated bike lanes, parking facilities, and traffic regulations that cater to two-wheeled vehicles. Are you aware of any initiatives or programs in your city that promote scooter safety and accessibility? I\\'d be happy to provide more information or discuss ways to make urban mobility more efficient and enjoyable.\\nHuman: My favorite city is San Francisco\\nAI: San Francisco is a fascinating city, known for its vibrant cultural scene, stunning natural beauty, and iconic landmarks. Did you know that San Francisco is situated on the San Andreas Fault, and its unique geology has shaped the city\\'s landscape and architecture? The city\\'s famous hills, such as Nob Hill, Russian Hill, and Telegraph Hill, were formed by the movement of the Pacific and North American tectonic plates.\\n\\nSan Francisco is also a city of incredible diversity, with a rich history of immigration and cultural exchange. The city\\'s Chinatown, for example, is one of the largest and oldest in the United States, and it\\'s a popular destination for food, shopping, and cultural events. The city\\'s Mission District is known for its vibrant street art, Latin American cuisine, and lively music scene.\\n\\nAs a fan of Vespa scooters, you might enjoy exploring San Francisco\\'s scenic neighborhoods and coastline on two wheels. The city has a number of bike-friendly routes and lanes, including the popular Embarcadero and the scenic Great Highway, which runs along the Pacific Coast. You could ride across the Golden Gate Bridge, visit the picturesque town of Sausalito, or explore the city\\'s many parks and green spaces, such as Golden Gate Park or the Presidio.\\n\\nSan Francisco is also a hub for technology and innovation, with many major tech companies, including Twitter, Airbnb, and Uber, headquartered in the city. The city\\'s South of Market (SoMa) neighborhood is home to a number of museums, galleries, and performance venues, including the San Francisco Museum of Modern Art (SFMOMA) and the Yerba Buena Center for the Arts.\\n\\nWhat is it about San Francisco that you love the most, Mohamed? Is it the city\\'s iconic landmarks, such as the Golden Gate Bridge or Alcatraz Island? Or is it the city\\'s diverse neighborhoods, cultural events, and culinary scene? Have you ever attended any of the city\\'s famous festivals, such as the San Francisco Pride parade or the Outside Lands music festival?',\n",
       " 'response': \"Unfortunately, I don't have enough information to determine your favorite color, Mohamed. We've discussed your fondness for horses, Vespa scooters, and the city of San Francisco, but we haven't touched on the topic of colors yet. If you'd like to share your favorite color with me, I'd be happy to learn more about it and explore the topic further!\"}"
      ]
     },
     "execution_count": 20,
     "metadata": {},
     "output_type": "execute_result"
    }
   ],
   "source": [
    "conversation_window({\"input\": \"What is my favorite color?\"})"
   ]
  },
  {
   "cell_type": "markdown",
   "id": "d134952a",
   "metadata": {},
   "source": [
    "Now He Know My Favourite City As It is One From 3 Previous Messages ??"
   ]
  },
  {
   "cell_type": "code",
   "execution_count": 21,
   "id": "446a948b",
   "metadata": {},
   "outputs": [
    {
     "name": "stdout",
     "output_type": "stream",
     "text": [
      "\n",
      "\n",
      "\u001b[1m> Entering new ConversationChain chain...\u001b[0m\n",
      "Prompt after formatting:\n",
      "\u001b[32;1m\u001b[1;3mThe following is a friendly conversation between a human and an AI. The AI is talkative and provides lots of specific details from its context. If the AI does not know the answer to a question, it truthfully says it does not know.\n",
      "\n",
      "Current conversation:\n",
      "Human: I like to drive a vespa scooter in the city\n",
      "AI: Vespa scooters are a classic mode of transportation, especially in urban areas. They're known for their sleek design, agile handling, and fuel efficiency, making them a popular choice for navigating through busy city streets. Did you know that the first Vespa scooter was designed by Corradino D'Ascanio, an Italian engineer, in 1946? The name \"Vespa\" is Italian for \"wasp,\" which was chosen because the scooter's shape and sound were reminiscent of the insect.\n",
      "\n",
      "Vespa scooters have a rich history, and they've become an iconic symbol of Italian style and culture. Over the years, they've been featured in numerous films, music videos, and advertisements, often associated with a carefree, adventurous lifestyle. In addition to their aesthetic appeal, Vespa scooters are also highly functional, with a range of models available to suit different riding styles and preferences.\n",
      "\n",
      "As a Vespa scooter enthusiast, you must enjoy the feeling of freedom and exhilaration that comes with riding through the city. Do you have a favorite route or destination that you like to ride to, Mohamed? Perhaps a scenic spot, a favorite café, or a vibrant neighborhood? Have you ever considered customizing your Vespa scooter or attending Vespa-themed events and rallies?\n",
      "\n",
      "By the way, I can tell you that some cities are more scooter-friendly than others, with dedicated bike lanes, parking facilities, and traffic regulations that cater to two-wheeled vehicles. Are you aware of any initiatives or programs in your city that promote scooter safety and accessibility? I'd be happy to provide more information or discuss ways to make urban mobility more efficient and enjoyable.\n",
      "Human: My favorite city is San Francisco\n",
      "AI: San Francisco is a fascinating city, known for its vibrant cultural scene, stunning natural beauty, and iconic landmarks. Did you know that San Francisco is situated on the San Andreas Fault, and its unique geology has shaped the city's landscape and architecture? The city's famous hills, such as Nob Hill, Russian Hill, and Telegraph Hill, were formed by the movement of the Pacific and North American tectonic plates.\n",
      "\n",
      "San Francisco is also a city of incredible diversity, with a rich history of immigration and cultural exchange. The city's Chinatown, for example, is one of the largest and oldest in the United States, and it's a popular destination for food, shopping, and cultural events. The city's Mission District is known for its vibrant street art, Latin American cuisine, and lively music scene.\n",
      "\n",
      "As a fan of Vespa scooters, you might enjoy exploring San Francisco's scenic neighborhoods and coastline on two wheels. The city has a number of bike-friendly routes and lanes, including the popular Embarcadero and the scenic Great Highway, which runs along the Pacific Coast. You could ride across the Golden Gate Bridge, visit the picturesque town of Sausalito, or explore the city's many parks and green spaces, such as Golden Gate Park or the Presidio.\n",
      "\n",
      "San Francisco is also a hub for technology and innovation, with many major tech companies, including Twitter, Airbnb, and Uber, headquartered in the city. The city's South of Market (SoMa) neighborhood is home to a number of museums, galleries, and performance venues, including the San Francisco Museum of Modern Art (SFMOMA) and the Yerba Buena Center for the Arts.\n",
      "\n",
      "What is it about San Francisco that you love the most, Mohamed? Is it the city's iconic landmarks, such as the Golden Gate Bridge or Alcatraz Island? Or is it the city's diverse neighborhoods, cultural events, and culinary scene? Have you ever attended any of the city's famous festivals, such as the San Francisco Pride parade or the Outside Lands music festival?\n",
      "Human: What is my favorite color?\n",
      "AI: Unfortunately, I don't have enough information to determine your favorite color, Mohamed. We've discussed your fondness for horses, Vespa scooters, and the city of San Francisco, but we haven't touched on the topic of colors yet. If you'd like to share your favorite color with me, I'd be happy to learn more about it and explore the topic further!\n",
      "Human: What is my favorite city?\n",
      "AI:\u001b[0m\n",
      "\n",
      "\u001b[1m> Finished chain.\u001b[0m\n"
     ]
    },
    {
     "data": {
      "text/plain": [
       "{'input': 'What is my favorite city?',\n",
       " 'history': 'Human: I like to drive a vespa scooter in the city\\nAI: Vespa scooters are a classic mode of transportation, especially in urban areas. They\\'re known for their sleek design, agile handling, and fuel efficiency, making them a popular choice for navigating through busy city streets. Did you know that the first Vespa scooter was designed by Corradino D\\'Ascanio, an Italian engineer, in 1946? The name \"Vespa\" is Italian for \"wasp,\" which was chosen because the scooter\\'s shape and sound were reminiscent of the insect.\\n\\nVespa scooters have a rich history, and they\\'ve become an iconic symbol of Italian style and culture. Over the years, they\\'ve been featured in numerous films, music videos, and advertisements, often associated with a carefree, adventurous lifestyle. In addition to their aesthetic appeal, Vespa scooters are also highly functional, with a range of models available to suit different riding styles and preferences.\\n\\nAs a Vespa scooter enthusiast, you must enjoy the feeling of freedom and exhilaration that comes with riding through the city. Do you have a favorite route or destination that you like to ride to, Mohamed? Perhaps a scenic spot, a favorite café, or a vibrant neighborhood? Have you ever considered customizing your Vespa scooter or attending Vespa-themed events and rallies?\\n\\nBy the way, I can tell you that some cities are more scooter-friendly than others, with dedicated bike lanes, parking facilities, and traffic regulations that cater to two-wheeled vehicles. Are you aware of any initiatives or programs in your city that promote scooter safety and accessibility? I\\'d be happy to provide more information or discuss ways to make urban mobility more efficient and enjoyable.\\nHuman: My favorite city is San Francisco\\nAI: San Francisco is a fascinating city, known for its vibrant cultural scene, stunning natural beauty, and iconic landmarks. Did you know that San Francisco is situated on the San Andreas Fault, and its unique geology has shaped the city\\'s landscape and architecture? The city\\'s famous hills, such as Nob Hill, Russian Hill, and Telegraph Hill, were formed by the movement of the Pacific and North American tectonic plates.\\n\\nSan Francisco is also a city of incredible diversity, with a rich history of immigration and cultural exchange. The city\\'s Chinatown, for example, is one of the largest and oldest in the United States, and it\\'s a popular destination for food, shopping, and cultural events. The city\\'s Mission District is known for its vibrant street art, Latin American cuisine, and lively music scene.\\n\\nAs a fan of Vespa scooters, you might enjoy exploring San Francisco\\'s scenic neighborhoods and coastline on two wheels. The city has a number of bike-friendly routes and lanes, including the popular Embarcadero and the scenic Great Highway, which runs along the Pacific Coast. You could ride across the Golden Gate Bridge, visit the picturesque town of Sausalito, or explore the city\\'s many parks and green spaces, such as Golden Gate Park or the Presidio.\\n\\nSan Francisco is also a hub for technology and innovation, with many major tech companies, including Twitter, Airbnb, and Uber, headquartered in the city. The city\\'s South of Market (SoMa) neighborhood is home to a number of museums, galleries, and performance venues, including the San Francisco Museum of Modern Art (SFMOMA) and the Yerba Buena Center for the Arts.\\n\\nWhat is it about San Francisco that you love the most, Mohamed? Is it the city\\'s iconic landmarks, such as the Golden Gate Bridge or Alcatraz Island? Or is it the city\\'s diverse neighborhoods, cultural events, and culinary scene? Have you ever attended any of the city\\'s famous festivals, such as the San Francisco Pride parade or the Outside Lands music festival?\\nHuman: What is my favorite color?\\nAI: Unfortunately, I don\\'t have enough information to determine your favorite color, Mohamed. We\\'ve discussed your fondness for horses, Vespa scooters, and the city of San Francisco, but we haven\\'t touched on the topic of colors yet. If you\\'d like to share your favorite color with me, I\\'d be happy to learn more about it and explore the topic further!',\n",
       " 'response': \"I do know that, Mohamed. Your favorite city is San Francisco. We discussed it earlier, and I shared some interesting facts and information about the city, from its unique geology and cultural diversity to its scenic neighborhoods and iconic landmarks. Is there something specific you'd like to know or discuss about San Francisco, or would you like to explore other topics?\"}"
      ]
     },
     "execution_count": 21,
     "metadata": {},
     "output_type": "execute_result"
    }
   ],
   "source": [
    "conversation_window({\"input\": \"What is my favorite city?\"})"
   ]
  },
  {
   "cell_type": "markdown",
   "id": "0002abce",
   "metadata": {},
   "source": [
    "### Chat Message History"
   ]
  },
  {
   "cell_type": "code",
   "execution_count": null,
   "id": "7e6156d7",
   "metadata": {},
   "outputs": [
    {
     "name": "stdout",
     "output_type": "stream",
     "text": [
      "Human: Hello, how are you?\n",
      "AI: I'm good, thanks! What about you?\n"
     ]
    }
   ],
   "source": [
    "from langchain.memory import ChatMessageHistory\n",
    "\n",
    "history = ChatMessageHistory()\n",
    "\n",
    "history.add_user_message(\"Hello, how are you?\")\n",
    "history.add_ai_message(\"I'm good, thanks! What about you?\")\n",
    "\n",
    "print(history)"
   ]
  },
  {
   "cell_type": "code",
   "execution_count": 23,
   "id": "a512de69",
   "metadata": {},
   "outputs": [
    {
     "data": {
      "text/plain": [
       "[HumanMessage(content='Hello, how are you?', additional_kwargs={}, response_metadata={}),\n",
       " AIMessage(content=\"I'm good, thanks! What about you?\", additional_kwargs={}, response_metadata={})]"
      ]
     },
     "execution_count": 23,
     "metadata": {},
     "output_type": "execute_result"
    }
   ],
   "source": [
    "history.messages"
   ]
  },
  {
   "cell_type": "code",
   "execution_count": null,
   "id": "762a4fae",
   "metadata": {},
   "outputs": [],
   "source": []
  }
 ],
 "metadata": {
  "kernelspec": {
   "display_name": "langchain-env",
   "language": "python",
   "name": "python3"
  },
  "language_info": {
   "codemirror_mode": {
    "name": "ipython",
    "version": 3
   },
   "file_extension": ".py",
   "mimetype": "text/x-python",
   "name": "python",
   "nbconvert_exporter": "python",
   "pygments_lexer": "ipython3",
   "version": "3.11.13"
  }
 },
 "nbformat": 4,
 "nbformat_minor": 5
}
